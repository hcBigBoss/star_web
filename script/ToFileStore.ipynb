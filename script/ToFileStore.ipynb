{
 "cells": [
  {
   "cell_type": "code",
   "execution_count": null,
   "metadata": {},
   "outputs": [],
   "source": [
    "from mysql.mysql  import Mysql\n",
    "import minio \n",
    "import time\n",
    "import sys\n",
    "from toollib.guid  import SnowFlake\n",
    "import traceback\n",
    "import hashlib\n",
    "curPath = '/Users/hcbigboss/RESP/html/raspberry/script'\n",
    "\n",
    "if curPath not in sys.path:\n",
    "    sys.path.append(curPath)\n",
    "\n",
    "import FileUtil"
   ]
  },
  {
   "cell_type": "code",
   "execution_count": null,
   "metadata": {},
   "outputs": [],
   "source": [
    "mysqlHandle = Mysql('../configs/mysql.yml')\n",
    "\n",
    "cursor = mysqlHandle.getCursor('filedb')\n",
    "\n",
    "\n",
    "minioHandle = minio.Minio('192.168.0.151:9000','adminminio','adminminio',secure=False)\n",
    "\n",
    "\n",
    "snowFlake = SnowFlake()"
   ]
  },
  {
   "cell_type": "code",
   "execution_count": null,
   "metadata": {},
   "outputs": [],
   "source": [
    "def dFFiles(bucket,filePath,dirList,fileList,parentId):\n",
    "\n",
    "    files =  minioHandle.list_objects(bucket,filePath)\n",
    "    \n",
    "    for file in files:\n",
    "        id = snowFlake.gen_uid()\n",
    "        fileName =  file.object_name\n",
    "        rel_path = '/'+ bucket+'/'+ file.object_name\n",
    "        create_time = time.strftime(\"%Y-%m-%d %H:%M:%S\",time.localtime())\n",
    "        modify_time = create_time\n",
    "        type = ''\n",
    "\n",
    "        if file.is_dir:\n",
    "            fileName = fileName[0:len(fileName)-1]\n",
    "            pos =fileName.rfind('/')\n",
    "            title = fileName if pos == -1 else fileName[pos+1:]\n",
    "            dirList.append((\n",
    "                id,\n",
    "                title,\n",
    "                rel_path,\n",
    "                parentId,\n",
    "                create_time,\n",
    "                modify_time,\n",
    "                type\n",
    "            ))\n",
    "            dFFiles(bucket,file.object_name,dirList,fileList,id)\n",
    "        else:\n",
    "            pos =fileName.rfind('/')\n",
    "            title = fileName[pos+1:]\n",
    "            pos = title.rfind('.')\n",
    "            type = title[pos:]\n",
    "            fileList.append((\n",
    "                id,\n",
    "                title,\n",
    "                rel_path,\n",
    "                parentId,\n",
    "                create_time,\n",
    "                modify_time,\n",
    "                type\n",
    "            ))\n",
    "\n",
    "    return dirList,fileList\n",
    "\n",
    "def getFiles(bucket,filePath,parentId):\n",
    "    fileList = []\n",
    "    dirList = []\n",
    "    dFFiles(bucket,filePath,dirList,fileList,parentId)\n",
    "    return dirList,fileList\n",
    "\n"
   ]
  },
  {
   "cell_type": "code",
   "execution_count": 34,
   "metadata": {},
   "outputs": [],
   "source": [
    "def writeToDb( dbName,dirList,fileList):\n",
    "    try:\n",
    "        sql = \"insert into dirs (`id`,`title`,`rel_path`,parent_id,create_time,modify_time,type) values(%s,%s,%s,%s,%s,%s,%s)\"\n",
    "        cursor.executemany(sql,dirList)\n",
    "\n",
    "        sql = \"insert into \" + dbName + \" (`id`,`title`,`rel_path`,parent_id,create_time,modify_time,type) values(%s,%s,%s,%s,%s,%s,%s)\"\n",
    "        cursor.executemany(sql,fileList)\n",
    "        # cursor.executemany(sql,fileList)\n",
    "        mysqlHandle.commit('filedb')\n",
    "    except Exception as e:\n",
    "        mysqlHandle.rollback('filedb')\n",
    "        traceback.print_exc()\n",
    "        \n",
    "        \n",
    "    pass"
   ]
  },
  {
   "cell_type": "code",
   "execution_count": null,
   "metadata": {},
   "outputs": [],
   "source": [
    "\n",
    "dirList,fileList = getFiles('video','/',None)\n",
    "print(dirList)\n",
    "print(\"====================\")\n",
    "writeToDb('videos',dirList,fileList)\n",
    "\n",
    "# for dir in dirList:\n",
    "#     print(dir.object_name)\n",
    "\n",
    "# print('-------------')\n",
    "# # print(fileList)\n",
    "# for file in fileList:\n",
    "#     print(file.object_name)\n"
   ]
  },
  {
   "cell_type": "code",
   "execution_count": 35,
   "metadata": {},
   "outputs": [
    {
     "name": "stderr",
     "output_type": "stream",
     "text": [
      "2023-02-26 22:28:09,980 - urllib3.connectionpool - DEBUG - http://192.168.0.151:9000 \"GET /picture?location= HTTP/1.1\" 200 128\n",
      "2023-02-26 22:28:09,994 - urllib3.connectionpool - DEBUG - http://192.168.0.151:9000 \"GET /picture?delimiter=%2F&encoding-type=url&list-type=2&max-keys=1000&prefix=%2F HTTP/1.1\" 200 351\n",
      "2023-02-26 22:28:10,114 - urllib3.connectionpool - DEBUG - http://192.168.0.151:9000 \"GET /picture?delimiter=%2F&encoding-type=url&list-type=2&max-keys=1000&prefix=saigao%2F HTTP/1.1\" 200 7072\n",
      "2023-02-26 22:28:10,137 - urllib3.connectionpool - DEBUG - http://192.168.0.151:9000 \"GET /picture?delimiter=%2F&encoding-type=url&list-type=2&max-keys=1000&prefix=saigao%2F1466%20%E8%B5%9B%E9%AB%98%E9%85%B1-NO.059%202019%E5%9C%A3%E8%AF%9E%E7%9B%B4%E6%92%AD%EF%BC%9A%E8%BD%BBSM%E5%85%BD%E8%80%B3%E5%B0%BE%E5%B7%B4%20%E7%B4%AB%E8%89%B2%E8%A1%AC%E8%A1%A3%20%5B99P1V-152MB%5D%2F HTTP/1.1\" 200 53653\n",
      "2023-02-26 22:28:10,164 - urllib3.connectionpool - DEBUG - http://192.168.0.151:9000 \"GET /picture?delimiter=%2F&encoding-type=url&list-type=2&max-keys=1000&prefix=saigao%2F19%E9%82%BB%E5%AE%B6%E5%A5%B3%E5%AD%A9%E7%B2%89%E7%99%BD%E6%AD%BB%E5%BA%93%E6%B0%B4%2052%E5%9B%BE%204%E8%8A%B1%E7%B5%AE%E8%A7%86%E5%B1%8F%2F HTTP/1.1\" 200 27969\n",
      "2023-02-26 22:28:10,187 - urllib3.connectionpool - DEBUG - http://192.168.0.151:9000 \"GET /picture?delimiter=%2F&encoding-type=url&list-type=2&max-keys=1000&prefix=saigao%2F2018%E5%8D%95%E8%BA%AB%E8%8A%82%E7%89%B9%E5%88%8A-%E6%B0%B4%E9%BE%99%E6%95%AC%E5%B7%AB%E5%A5%B3%E6%80%A7%E6%84%9F%E5%86%85%E8%A1%A3%28128P%205V%29%2F HTTP/1.1\" 200 53158\n",
      "2023-02-26 22:28:10,242 - urllib3.connectionpool - DEBUG - http://192.168.0.151:9000 \"GET /picture?delimiter=%2F&encoding-type=url&list-type=2&max-keys=1000&prefix=saigao%2F2019%E4%B8%83%E5%A4%95%E7%89%B9%E5%85%B8%EF%BC%9A%20%E9%BB%91%E9%95%BF%E7%9B%B4%E8%89%B2%E6%B0%94loli%E6%B0%B4%E6%89%8B%E6%9C%8D%E5%86%99%E7%9C%9F%20200%E5%9B%BE%20%20%2B%206%E9%95%BF%E8%A7%86%E9%A2%91%2F HTTP/1.1\" 200 113495\n",
      "2023-02-26 22:28:10,368 - urllib3.connectionpool - DEBUG - http://192.168.0.151:9000 \"GET /picture?delimiter=%2F&encoding-type=url&list-type=2&max-keys=1000&prefix=saigao%2F2019%E7%AB%AF%E5%8D%88%E8%8A%82%E7%89%B9%E5%88%8A%E4%B8%A4%E5%A5%97%2F HTTP/1.1\" 200 1667\n",
      "2023-02-26 22:28:10,385 - urllib3.connectionpool - DEBUG - http://192.168.0.151:9000 \"GET /picture?delimiter=%2F&encoding-type=url&list-type=2&max-keys=1000&prefix=saigao%2F2019%E7%AB%AF%E5%8D%88%E8%8A%82%E7%89%B9%E5%88%8A%E4%B8%A4%E5%A5%97%2F2019%E6%96%B0%E5%B9%B4%E8%B4%BA%E5%9B%BE%EF%BC%9A%E6%B5%B4%E5%AE%A4%E6%B9%BF%E8%BA%ABloli%E4%B8%BB%E9%A2%9858%E5%9B%BE%2F HTTP/1.1\" 200 32600\n",
      "2023-02-26 22:28:10,406 - urllib3.connectionpool - DEBUG - http://192.168.0.151:9000 \"GET /picture?delimiter=%2F&encoding-type=url&list-type=2&max-keys=1000&prefix=saigao%2F2019%E7%AB%AF%E5%8D%88%E8%8A%82%E7%89%B9%E5%88%8A%E4%B8%A4%E5%A5%97%2F2019%E6%96%B0%E5%B9%B4%E8%B4%BA%E5%9B%BE%EF%BC%9A%E9%80%8F%E6%98%8E%E9%BB%91%E4%B8%9D%E6%80%A7%E6%84%9F%E5%BE%A1%E5%A7%90%E4%B8%BB%E9%A2%98%2040%E5%9B%BE%20%2B9%E5%B0%8F%E8%A7%86%E9%A2%91%2F HTTP/1.1\" 200 25633\n",
      "2023-02-26 22:28:10,422 - urllib3.connectionpool - DEBUG - http://192.168.0.151:9000 \"GET /picture?delimiter=%2F&encoding-type=url&list-type=2&max-keys=1000&prefix=saigao%2F2019%E7%AB%AF%E5%8D%88%E8%8A%82%E7%89%B9%E5%88%8A%E4%B8%A4%E5%A5%97%2F2019%E6%96%B0%E5%B9%B4%E8%B4%BA%E5%9B%BE%EF%BC%9A%E9%80%8F%E6%98%8E%E9%BB%91%E4%B8%9D%E6%80%A7%E6%84%9F%E5%BE%A1%E5%A7%90%E4%B8%BB%E9%A2%98%2040%E5%9B%BE%20%2B9%E5%B0%8F%E8%A7%86%E9%A2%91%2F%E7%A9%BA%E9%97%B4%E7%B2%89%E8%89%B2%E6%B0%B4%E6%89%8B%E6%9C%8D%E4%B8%8D%E6%96%B9%E4%BE%BF%E5%8F%91%E7%9A%84%2F HTTP/1.1\" 200 4250\n",
      "2023-02-26 22:28:10,435 - urllib3.connectionpool - DEBUG - http://192.168.0.151:9000 \"GET /picture?delimiter=%2F&encoding-type=url&list-type=2&max-keys=1000&prefix=saigao%2F2019%E7%AB%AF%E5%8D%88%E8%8A%82%E7%89%B9%E5%88%8A%E4%B8%A4%E5%A5%97%2F9%E4%B8%AA%E5%B0%8F%E8%A7%86%E9%A2%91%2F HTTP/1.1\" 200 4685\n",
      "2023-02-26 22:28:10,448 - urllib3.connectionpool - DEBUG - http://192.168.0.151:9000 \"GET /picture?delimiter=%2F&encoding-type=url&list-type=2&max-keys=1000&prefix=saigao%2F2019%E9%82%BB%E5%AE%B6%E5%A5%B3%E5%AD%A9%E5%B0%8FT%E6%81%A4%20%2023%E5%9B%BE%2F HTTP/1.1\" 200 10552\n",
      "2023-02-26 22:28:10,465 - urllib3.connectionpool - DEBUG - http://192.168.0.151:9000 \"GET /picture?delimiter=%2F&encoding-type=url&list-type=2&max-keys=1000&prefix=saigao%2F2020%E6%96%B0%E5%B9%B4%E7%89%B9%E5%88%8A%EF%BC%9A%E5%8F%8C%E9%A9%AC%E5%B0%BE%E8%8D%89%E8%8E%93%E6%80%A7%E6%84%9Floli%20%2047%E5%9B%BE%2F HTTP/1.1\" 200 24333\n",
      "2023-02-26 22:28:10,489 - urllib3.connectionpool - DEBUG - http://192.168.0.151:9000 \"GET /picture?delimiter=%2F&encoding-type=url&list-type=2&max-keys=1000&prefix=saigao%2F2020%E6%96%B0%E5%B9%B4%E8%B4%BA%E5%88%8A%EF%BC%9A%20%E6%9A%97%E9%BB%91%E6%81%B6%E9%AD%94%E8%BD%BBSM%E5%B0%91%E5%A5%B3%20120%E5%9B%BE%2F HTTP/1.1\" 200 60528\n",
      "2023-02-26 22:28:10,509 - urllib3.connectionpool - DEBUG - http://192.168.0.151:9000 \"GET /picture?delimiter=%2F&encoding-type=url&list-type=2&max-keys=1000&prefix=saigao%2F2020%E6%96%B0%E5%B9%B4%E8%B4%BA%E5%88%8A%EF%BC%9A%E7%B2%89%E8%89%B2%E8%90%9D%E8%8E%89%E8%A3%99%2028%E5%9B%BE%2F HTTP/1.1\" 200 13371\n",
      "2023-02-26 22:28:10,579 - urllib3.connectionpool - DEBUG - http://192.168.0.151:9000 \"GET /picture?delimiter=%2F&encoding-type=url&list-type=2&max-keys=1000&prefix=saigao%2FH%E5%B7%A5%E5%8F%A3%E5%B0%8F%E5%AD%A6%E7%94%9F%E8%B5%9B%E9%AB%98%2F HTTP/1.1\" 200 1425\n",
      "2023-02-26 22:28:10,650 - urllib3.connectionpool - DEBUG - http://192.168.0.151:9000 \"GET /picture?delimiter=%2F&encoding-type=url&list-type=2&max-keys=1000&prefix=saigao%2FH%E5%B7%A5%E5%8F%A3%E5%B0%8F%E5%AD%A6%E7%94%9F%E8%B5%9B%E9%AB%98%2FH%E5%B7%A5%E5%8F%A3%E5%B0%8F%E5%AD%A6%E7%94%9F%E8%B5%9B%E9%AB%98%20%E5%85%A8%E5%A5%97VIP%E5%9B%BE%E5%8C%85%2F HTTP/1.1\" 200 2118\n",
      "2023-02-26 22:28:10,689 - urllib3.connectionpool - DEBUG - http://192.168.0.151:9000 \"GET /picture?delimiter=%2F&encoding-type=url&list-type=2&max-keys=1000&prefix=saigao%2FH%E5%B7%A5%E5%8F%A3%E5%B0%8F%E5%AD%A6%E7%94%9F%E8%B5%9B%E9%AB%98%2FH%E5%B7%A5%E5%8F%A3%E5%B0%8F%E5%AD%A6%E7%94%9F%E8%B5%9B%E9%AB%98%20%E5%85%A8%E5%A5%97VIP%E5%9B%BE%E5%8C%85%2F%E5%B0%8F%E5%AD%A6%E7%94%9F%E3%80%81%2F HTTP/1.1\" 200 141008\n",
      "2023-02-26 22:28:10,728 - urllib3.connectionpool - DEBUG - http://192.168.0.151:9000 \"GET /picture?delimiter=%2F&encoding-type=url&list-type=2&max-keys=1000&prefix=saigao%2FH%E5%B7%A5%E5%8F%A3%E5%B0%8F%E5%AD%A6%E7%94%9F%E8%B5%9B%E9%AB%98%2FH%E5%B7%A5%E5%8F%A3%E5%B0%8F%E5%AD%A6%E7%94%9F%E8%B5%9B%E9%AB%98%20%E5%85%A8%E5%A5%97VIP%E5%9B%BE%E5%8C%85%2F%E5%BE%AE%E5%8D%9A%E6%95%A3%E5%9B%BE%2F HTTP/1.1\" 200 71033\n",
      "2023-02-26 22:28:10,751 - urllib3.connectionpool - DEBUG - http://192.168.0.151:9000 \"GET /picture?delimiter=%2F&encoding-type=url&list-type=2&max-keys=1000&prefix=saigao%2FH%E5%B7%A5%E5%8F%A3%E5%B0%8F%E5%AD%A6%E7%94%9F%E8%B5%9B%E9%AB%98%2FH%E5%B7%A5%E5%8F%A3%E5%B0%8F%E5%AD%A6%E7%94%9F%E8%B5%9B%E9%AB%98%20%E5%85%A8%E5%A5%97VIP%E5%9B%BE%E5%8C%85%2F%E7%B2%89%E7%BA%A2%E8%AF%B1%E6%83%91%2F HTTP/1.1\" 200 30551\n",
      "2023-02-26 22:28:10,773 - urllib3.connectionpool - DEBUG - http://192.168.0.151:9000 \"GET /picture?delimiter=%2F&encoding-type=url&list-type=2&max-keys=1000&prefix=saigao%2FH%E5%B7%A5%E5%8F%A3%E5%B0%8F%E5%AD%A6%E7%94%9F%E8%B5%9B%E9%AB%98%2FH%E5%B7%A5%E5%8F%A3%E5%B0%8F%E5%AD%A6%E7%94%9F%E8%B5%9B%E9%AB%98%20%E5%85%A8%E5%A5%97VIP%E5%9B%BE%E5%8C%85%2F%E8%B5%9B%E9%AB%98%E6%AD%BB%E5%BA%93%E6%B0%B4%E7%B3%BB%E5%88%97%2F HTTP/1.1\" 200 53564\n",
      "2023-02-26 22:28:10,795 - urllib3.connectionpool - DEBUG - http://192.168.0.151:9000 \"GET /picture?delimiter=%2F&encoding-type=url&list-type=2&max-keys=1000&prefix=saigao%2FH%E5%B7%A5%E5%8F%A3%E5%B0%8F%E5%AD%A6%E7%94%9F%E8%B5%9B%E9%AB%98%2FH%E5%B7%A5%E5%8F%A3%E5%B0%8F%E5%AD%A6%E7%94%9F%E8%B5%9B%E9%AB%98%20%E5%85%A8%E5%A5%97VIP%E5%9B%BE%E5%8C%85%2F%E8%B5%9B%E9%AB%98%E9%BB%91%E4%B8%9D%2F HTTP/1.1\" 200 23885\n",
      "2023-02-26 22:28:10,814 - urllib3.connectionpool - DEBUG - http://192.168.0.151:9000 \"GET /picture?delimiter=%2F&encoding-type=url&list-type=2&max-keys=1000&prefix=saigao%2FH%E5%B7%A5%E5%8F%A3%E5%B0%8F%E5%AD%A6%E7%94%9F%E8%B5%9B%E9%AB%98%2FH%E5%B7%A5%E5%8F%A3%E5%B0%8F%E5%AD%A6%E7%94%9F%E8%B5%9B%E9%AB%98%20%E5%85%A8%E5%A5%97VIP%E5%9B%BE%E5%8C%85%2F%E8%B5%9B%E9%AB%98%E9%BB%91%E4%B8%9D%E9%A2%86%E5%9F%9F%E5%A5%97%E5%9B%BE%2F HTTP/1.1\" 200 49691\n",
      "2023-02-26 22:28:10,836 - urllib3.connectionpool - DEBUG - http://192.168.0.151:9000 \"GET /picture?delimiter=%2F&encoding-type=url&list-type=2&max-keys=1000&prefix=saigao%2FH%E5%B7%A5%E5%8F%A3%E5%B0%8F%E5%AD%A6%E7%94%9F%E8%B5%9B%E9%AB%98%2FH%E5%B7%A5%E5%8F%A3%E5%B0%8F%E5%AD%A6%E7%94%9F%E8%B5%9B%E9%AB%98%E4%BD%9C%E5%93%81%EF%BC%9A%E4%B8%9C%E6%9D%A1%E5%B8%8C%E7%9D%A1%E8%A1%A3%20%E7%AB%A5%E9%A2%9C%E5%B7%A8%E4%B9%B3%20%5B87P%2B6V86MB%5D%2F HTTP/1.1\" 200 55529\n",
      "2023-02-26 22:28:10,854 - urllib3.connectionpool - DEBUG - http://192.168.0.151:9000 \"GET /picture?delimiter=%2F&encoding-type=url&list-type=2&max-keys=1000&prefix=saigao%2FH%E5%B7%A5%E5%8F%A3%E5%B0%8F%E5%AD%A6%E7%94%9F%E8%B5%9B%E9%AB%98%2FH%E5%B7%A5%E5%8F%A3%E5%B0%8F%E5%AD%A6%E7%94%9F%E8%B5%9B%E9%AB%98%E4%BD%9C%E5%93%81%EF%BC%9A%E4%B8%9C%E6%9D%A1%E5%B8%8C%E7%9D%A1%E8%A1%A3%20%E7%AB%A5%E9%A2%9C%E5%B7%A8%E4%B9%B3%20%5B87P%2B6V86MB%5D%2F%E8%A7%86%E9%A2%91%2F HTTP/1.1\" 200 6297\n",
      "2023-02-26 22:28:10,873 - urllib3.connectionpool - DEBUG - http://192.168.0.151:9000 \"GET /picture?delimiter=%2F&encoding-type=url&list-type=2&max-keys=1000&prefix=saigao%2FH%E5%B7%A5%E5%8F%A3%E5%B0%8F%E5%AD%A6%E7%94%9F%E8%B5%9B%E9%AB%98%2FH%E5%B7%A5%E5%8F%A3%E5%B0%8F%E5%AD%A6%E7%94%9F%E8%B5%9B%E9%AB%98%E4%BD%9C%E5%93%81%EF%BC%9A%E6%B5%AA%E6%BC%AB%E4%B8%83%E5%A4%95%5B60P29MB%5D%2F HTTP/1.1\" 200 35504\n",
      "2023-02-26 22:28:10,891 - urllib3.connectionpool - DEBUG - http://192.168.0.151:9000 \"GET /picture?delimiter=%2F&encoding-type=url&list-type=2&max-keys=1000&prefix=saigao%2FH%E5%B7%A5%E5%8F%A3%E5%B0%8F%E5%AD%A6%E7%94%9F%E8%B5%9B%E9%AB%98%2FH%E5%B7%A5%E5%8F%A3%E5%B0%8F%E5%AD%A6%E7%94%9F%E8%B5%9B%E9%AB%98%E4%BD%9C%E5%93%81%EF%BC%9A%E7%89%9B%E4%BB%94%E8%A3%A4%5B40P16MB%5D%2F HTTP/1.1\" 200 24023\n",
      "2023-02-26 22:28:10,911 - urllib3.connectionpool - DEBUG - http://192.168.0.151:9000 \"GET /picture?delimiter=%2F&encoding-type=url&list-type=2&max-keys=1000&prefix=saigao%2FH%E5%B7%A5%E5%8F%A3%E5%B0%8F%E5%AD%A6%E7%94%9F%E8%B5%9B%E9%AB%98%E2%80%94%E7%AC%AC%E5%9B%9B%E6%9C%AC%E7%89%B9%E5%88%8A%E5%85%A8%E5%A5%97%E5%86%85%E8%A1%A3%20%2833P%29%2F HTTP/1.1\" 200 18076\n",
      "2023-02-26 22:28:10,965 - urllib3.connectionpool - DEBUG - http://192.168.0.151:9000 \"GET /picture?delimiter=%2F&encoding-type=url&list-type=2&max-keys=1000&prefix=saigao%2F%5B%E8%90%9D%E8%8E%89%E8%B5%9B%E9%AB%98%5D%E4%BA%94%E4%B8%80%E7%89%B9%E5%88%8A%2F HTTP/1.1\" 200 690\n",
      "2023-02-26 22:28:10,983 - urllib3.connectionpool - DEBUG - http://192.168.0.151:9000 \"GET /picture?delimiter=%2F&encoding-type=url&list-type=2&max-keys=1000&prefix=saigao%2F%5B%E8%90%9D%E8%8E%89%E8%B5%9B%E9%AB%98%5D%E4%BA%94%E4%B8%80%E7%89%B9%E5%88%8A%2F%E5%9B%BE%E5%8C%85%2F HTTP/1.1\" 200 35273\n",
      "2023-02-26 22:28:10,998 - urllib3.connectionpool - DEBUG - http://192.168.0.151:9000 \"GET /picture?delimiter=%2F&encoding-type=url&list-type=2&max-keys=1000&prefix=saigao%2F%5B%E8%90%9D%E8%8E%89%E8%B5%9B%E9%AB%98%5D%E4%BA%94%E4%B8%80%E7%89%B9%E5%88%8A%2F%E8%A7%86%E9%A2%91%2F HTTP/1.1\" 200 1886\n",
      "2023-02-26 22:28:11,017 - urllib3.connectionpool - DEBUG - http://192.168.0.151:9000 \"GET /picture?delimiter=%2F&encoding-type=url&list-type=2&max-keys=1000&prefix=saigao%2F%E4%B8%83%E5%A4%95%E7%89%B9%E5%88%8A%EF%BC%9A%E8%A1%80%E5%B0%8F%E6%9D%BF%E7%BE%8E%E5%B0%91%E5%A5%B3%2070%E5%9B%BE%2B5%E8%A7%86%E9%A2%91%2F HTTP/1.1\" 200 35442\n",
      "2023-02-26 22:28:11,035 - urllib3.connectionpool - DEBUG - http://192.168.0.151:9000 \"GET /picture?delimiter=%2F&encoding-type=url&list-type=2&max-keys=1000&prefix=saigao%2F%E5%B0%8F%E5%AD%A6%E7%94%9F%E8%B5%9B%E9%AB%98%20-%20%E5%9B%BD%E5%BA%86%E7%89%B9%E5%88%8A%20%E8%84%B1%E6%8E%89%E4%BD%A0%E7%BA%AF%E7%99%BD%E8%A1%AC%E8%A1%AB%2F HTTP/1.1\" 200 824\n",
      "2023-02-26 22:28:11,052 - urllib3.connectionpool - DEBUG - http://192.168.0.151:9000 \"GET /picture?delimiter=%2F&encoding-type=url&list-type=2&max-keys=1000&prefix=saigao%2F%E5%B0%8F%E5%AD%A6%E7%94%9F%E8%B5%9B%E9%AB%98%20-%20%E5%9B%BD%E5%BA%86%E7%89%B9%E5%88%8A%20%E8%84%B1%E6%8E%89%E4%BD%A0%E7%BA%AF%E7%99%BD%E8%A1%AC%E8%A1%AB%2FH%E5%B7%A5%E5%8F%A3%E5%B0%8F%E5%AD%A6%E7%94%9F%E8%B5%9B%E9%AB%98%20-%20%E5%9B%BD%E5%BA%86%E7%89%B9%E5%88%8A%20%E8%84%B1%E6%8E%89%E4%BD%A0%E7%BA%AF%E7%99%BD%E8%A1%AC%E8%A1%AB%2F HTTP/1.1\" 200 40509\n",
      "2023-02-26 22:28:11,070 - urllib3.connectionpool - DEBUG - http://192.168.0.151:9000 \"GET /picture?delimiter=%2F&encoding-type=url&list-type=2&max-keys=1000&prefix=saigao%2F%E6%88%91%E7%9A%84%E8%B5%84%E6%BA%90%2F HTTP/1.1\" 200 469\n",
      "2023-02-26 22:28:11,086 - urllib3.connectionpool - DEBUG - http://192.168.0.151:9000 \"GET /picture?delimiter=%2F&encoding-type=url&list-type=2&max-keys=1000&prefix=saigao%2F%E6%88%91%E7%9A%84%E8%B5%84%E6%BA%90%2F%E7%99%BD%E4%B8%9D%E8%B6%B3%E6%8E%A7%2F HTTP/1.1\" 200 28284\n",
      "2023-02-26 22:28:11,105 - urllib3.connectionpool - DEBUG - http://192.168.0.151:9000 \"GET /picture?delimiter=%2F&encoding-type=url&list-type=2&max-keys=1000&prefix=saigao%2F%E6%8A%B1%E8%B5%B0%E8%B5%9B%E9%AB%98%5B58P29M%5D%2F HTTP/1.1\" 200 27251\n",
      "2023-02-26 22:28:11,123 - urllib3.connectionpool - DEBUG - http://192.168.0.151:9000 \"GET /picture?delimiter=%2F&encoding-type=url&list-type=2&max-keys=1000&prefix=saigao%2F%E7%94%9F%E6%97%A5%E4%B8%BB%E9%A2%98%EF%BC%9A%E7%B2%89%E8%89%B2%E8%A1%AC%E8%A1%A3%E9%BD%90B%E7%89%9B%E4%BB%94%E8%A3%A4%2043%E5%9B%BE%2F HTTP/1.1\" 200 16266\n",
      "2023-02-26 22:28:11,141 - urllib3.connectionpool - DEBUG - http://192.168.0.151:9000 \"GET /picture?delimiter=%2F&encoding-type=url&list-type=2&max-keys=1000&prefix=saigao%2F%E7%94%9F%E6%97%A5%E4%B8%BB%E9%A2%98%EF%BC%9A%E7%B2%89%E8%89%B2%E8%A1%AC%E8%A1%A3%E9%BD%90B%E7%89%9B%E4%BB%94%E8%A3%A4%2043%E5%9B%BE%2F%E7%A9%BA%E9%97%B4%E6%9B%B4%E6%96%B0%2F HTTP/1.1\" 200 6262\n",
      "2023-02-26 22:28:11,163 - urllib3.connectionpool - DEBUG - http://192.168.0.151:9000 \"GET /picture?delimiter=%2F&encoding-type=url&list-type=2&max-keys=1000&prefix=saigao%2F%E7%A7%81%E5%AE%9A1%E4%B8%87%EF%BC%9AJK%E6%B0%B4%E6%89%8B%E6%9C%8D%2F HTTP/1.1\" 200 41988\n",
      "2023-02-26 22:28:11,193 - urllib3.connectionpool - DEBUG - http://192.168.0.151:9000 \"GET /picture?delimiter=%2F&encoding-type=url&list-type=2&max-keys=1000&prefix=saigao%2F%E7%A7%81%E5%AE%9A1%E4%B8%87%EF%BC%9A%E5%9B%BD%E4%BA%A7%E6%A0%A1%E6%9C%8D%E8%93%9D%E8%89%B2%20%E8%90%9D%E8%8E%89%E7%99%BD%E8%99%8E%2F HTTP/1.1\" 200 75414\n",
      "2023-02-26 22:28:11,213 - urllib3.connectionpool - DEBUG - http://192.168.0.151:9000 \"GET /picture?delimiter=%2F&encoding-type=url&list-type=2&max-keys=1000&prefix=saigao%2F%E7%A7%81%E5%AE%9A1%E4%B8%87%EF%BC%9A%E5%9B%BD%E4%BA%A7%E6%A0%A1%E6%9C%8D%E8%93%9D%E8%89%B2%20%E8%90%9D%E8%8E%89%E7%99%BD%E8%99%8E%2F%E8%A7%86%E9%A2%91%2F HTTP/1.1\" 200 4385\n",
      "2023-02-26 22:28:11,236 - urllib3.connectionpool - DEBUG - http://192.168.0.151:9000 \"GET /picture?delimiter=%2F&encoding-type=url&list-type=2&max-keys=1000&prefix=saigao%2F%E7%A7%81%E5%AE%9A1%E4%B8%87%EF%BC%9A%E6%80%A7%E6%84%9F%E5%A5%97%E5%A5%97%E7%89%9B%E5%A5%B6%E4%B8%BB%E9%A2%98%E4%B8%81%E5%AD%97%E8%A3%A4%2F HTTP/1.1\" 200 67527\n",
      "2023-02-26 22:28:11,266 - urllib3.connectionpool - DEBUG - http://192.168.0.151:9000 \"GET /picture?delimiter=%2F&encoding-type=url&list-type=2&max-keys=1000&prefix=saigao%2F%E7%A7%81%E5%AE%9A1%E4%B8%87%EF%BC%9A%E7%A7%81%E5%AF%86%E9%9D%92%E6%98%A5%E6%9C%9F%2F HTTP/1.1\" 200 61500\n",
      "2023-02-26 22:28:11,288 - urllib3.connectionpool - DEBUG - http://192.168.0.151:9000 \"GET /picture?delimiter=%2F&encoding-type=url&list-type=2&max-keys=1000&prefix=saigao%2F%E7%A7%81%E5%AE%9A1%E4%B8%87%EF%BC%9A%E7%B2%89%E7%99%BD%E8%93%9D%E7%99%BD%E6%9D%A1%E7%BA%B9%E4%B8%89%E8%A7%92%E5%86%85%E8%A1%A3%2F HTTP/1.1\" 200 27948\n",
      "2023-02-26 22:28:11,305 - urllib3.connectionpool - DEBUG - http://192.168.0.151:9000 \"GET /picture?delimiter=%2F&encoding-type=url&list-type=2&max-keys=1000&prefix=saigao%2F%E7%A7%81%E5%AE%9A1%E4%B8%87%EF%BC%9A%E7%B2%89%E8%89%B2%E7%BB%A3%E8%8A%B1%E8%82%9A%E5%85%9C%20%E6%9E%81%E5%BA%A6%E8%AF%B1%E6%83%91%2F HTTP/1.1\" 200 23896\n",
      "2023-02-26 22:28:11,324 - urllib3.connectionpool - DEBUG - http://192.168.0.151:9000 \"GET /picture?delimiter=%2F&encoding-type=url&list-type=2&max-keys=1000&prefix=saigao%2F%E7%A7%81%E5%AE%9A1%E4%B8%87%EF%BC%9A%E8%8D%89%E8%8E%93%E5%B0%8F%E6%96%B9%E5%BD%A2%E5%86%85%E8%A1%A3%2F HTTP/1.1\" 200 19317\n",
      "2023-02-26 22:28:11,344 - urllib3.connectionpool - DEBUG - http://192.168.0.151:9000 \"GET /picture?delimiter=%2F&encoding-type=url&list-type=2&max-keys=1000&prefix=saigao%2F%E7%A7%81%E5%AE%9A1%E4%B8%87%EF%BC%9A%E8%8D%89%E8%8E%93%E8%90%9D%E8%8E%89%E8%A3%99%2F HTTP/1.1\" 200 34080\n",
      "2023-02-26 22:28:11,363 - urllib3.connectionpool - DEBUG - http://192.168.0.151:9000 \"GET /picture?delimiter=%2F&encoding-type=url&list-type=2&max-keys=1000&prefix=saigao%2F%E7%A7%81%E5%AE%9A1%E4%B8%87%EF%BC%9A%E9%80%8F%E6%98%8E%E7%BA%B1%20%E7%BA%A2%E8%89%B2%E4%B8%81%E5%AD%97%E8%A3%A4%2F HTTP/1.1\" 200 20164\n",
      "2023-02-26 22:28:11,381 - urllib3.connectionpool - DEBUG - http://192.168.0.151:9000 \"GET /picture?delimiter=%2F&encoding-type=url&list-type=2&max-keys=1000&prefix=saigao%2F%E7%A7%81%E5%AE%9A1%E4%B8%87%EF%BC%9A%E9%BB%91%E4%B8%9D%E6%97%97%E8%A2%8D%2F HTTP/1.1\" 200 17259\n",
      "2023-02-26 22:28:11,398 - urllib3.connectionpool - DEBUG - http://192.168.0.151:9000 \"GET /picture?delimiter=%2F&encoding-type=url&list-type=2&max-keys=1000&prefix=saigao%2F%E7%A7%81%E5%AE%9A1%E4%B8%87%EF%BC%9A%E9%BB%91%E4%B8%9D%E6%BC%8F%E4%B9%B3%E5%86%85%E8%A1%A3%2F HTTP/1.1\" 200 18974\n",
      "2023-02-26 22:28:11,425 - urllib3.connectionpool - DEBUG - http://192.168.0.151:9000 \"GET /picture?delimiter=%2F&encoding-type=url&list-type=2&max-keys=1000&prefix=saigao%2F%E7%A7%81%E5%AE%9A1%E4%B8%87%EF%BC%9A%E9%BB%91%E7%99%BD%E6%83%85%E8%B6%A3%E5%86%85%E8%A1%A3%26%E9%80%8F%E6%98%8E%E6%B0%B4%E6%89%8B%E6%9C%8D%20%E6%BC%8F%E5%87%BA%2F HTTP/1.1\" 200 68313\n",
      "2023-02-26 22:28:11,448 - urllib3.connectionpool - DEBUG - http://192.168.0.151:9000 \"GET /picture?delimiter=%2F&encoding-type=url&list-type=2&max-keys=1000&prefix=saigao%2F%E7%A7%81%E5%AE%9A1%E4%B8%87%EF%BC%9A%E9%BB%91%E8%89%B2%E5%B0%8F%E4%B8%89%E8%A7%92%E5%86%85%E8%A1%A3%2F HTTP/1.1\" 200 22773\n",
      "2023-02-26 22:28:11,469 - urllib3.connectionpool - DEBUG - http://192.168.0.151:9000 \"GET /picture?delimiter=%2F&encoding-type=url&list-type=2&max-keys=1000&prefix=saigao%2F%E7%AB%AF%E5%8D%88%E7%89%B9%E5%8D%96%EF%BC%9A%E5%AE%88%E6%9C%9B%E5%85%88%E9%94%8Bdva%E6%AF%94%E5%9F%BA%E5%B0%BC%E6%B3%B3%E8%A3%85%2070%E5%9B%BE%2F HTTP/1.1\" 200 35467\n",
      "2023-02-26 22:28:11,487 - urllib3.connectionpool - DEBUG - http://192.168.0.151:9000 \"GET /picture?delimiter=%2F&encoding-type=url&list-type=2&max-keys=1000&prefix=saigao%2F%E7%BB%99%E4%BD%A0%E6%89%93%E9%92%88%E7%9A%84%E6%8A%A4%E5%A3%AB%E5%A6%B9%E5%A6%B9%20%2041%E5%9B%BE%2F HTTP/1.1\" 200 18927\n",
      "2023-02-26 22:28:11,506 - urllib3.connectionpool - DEBUG - http://192.168.0.151:9000 \"GET /picture?delimiter=%2F&encoding-type=url&list-type=2&max-keys=1000&prefix=saigao%2F%E8%B5%9B%E9%AB%98%20-%202019%E6%96%B0%E5%B9%B4%E7%89%B9%E5%88%8A%20%E6%B5%B4%E5%AE%A4%E6%B9%BF%E8%BA%ABloli%E4%B8%BB%E9%A2%98%2055P5V%2F HTTP/1.1\" 200 739\n",
      "2023-02-26 22:28:11,524 - urllib3.connectionpool - DEBUG - http://192.168.0.151:9000 \"GET /picture?delimiter=%2F&encoding-type=url&list-type=2&max-keys=1000&prefix=saigao%2F%E8%B5%9B%E9%AB%98%20-%202019%E6%96%B0%E5%B9%B4%E7%89%B9%E5%88%8A%20%E6%B5%B4%E5%AE%A4%E6%B9%BF%E8%BA%ABloli%E4%B8%BB%E9%A2%98%2055P5V%2F%E8%B5%9B%E9%AB%98%20-%202019%E6%96%B0%E5%B9%B4%E7%89%B9%E5%88%8A%20%E6%B5%B4%E5%AE%A4%E6%B9%BF%E8%BA%ABloli%E4%B8%BB%E9%A2%98%2055P5V%2F HTTP/1.1\" 200 40219\n",
      "2023-02-26 22:28:11,544 - urllib3.connectionpool - DEBUG - http://192.168.0.151:9000 \"GET /picture?delimiter=%2F&encoding-type=url&list-type=2&max-keys=1000&prefix=saigao%2F%E8%B5%9B%E9%AB%98%E5%A4%8F%E6%97%A5%E7%89%B9%E5%88%8A%20%E7%9A%AE%E5%8D%A1%E4%B8%98%E6%AF%94%E5%9F%BA%E5%B0%BC43P%2F HTTP/1.1\" 200 20693\n",
      "2023-02-26 22:28:11,613 - urllib3.connectionpool - DEBUG - http://192.168.0.151:9000 \"GET /picture?delimiter=%2F&encoding-type=url&list-type=2&max-keys=1000&prefix=saigao%2F%E8%B5%9B%E9%AB%98%E9%85%B1%20-%20JK%E6%B0%B4%E6%89%8B%E6%9C%8D%26%E8%8D%89%E8%8E%93%E8%90%9D%E8%8E%89%E8%A3%99%2F HTTP/1.1\" 200 777\n",
      "2023-02-26 22:28:11,636 - urllib3.connectionpool - DEBUG - http://192.168.0.151:9000 \"GET /picture?delimiter=%2F&encoding-type=url&list-type=2&max-keys=1000&prefix=saigao%2F%E8%B5%9B%E9%AB%98%E9%85%B1%20-%20JK%E6%B0%B4%E6%89%8B%E6%9C%8D%26%E8%8D%89%E8%8E%93%E8%90%9D%E8%8E%89%E8%A3%99%2F%E5%9B%BE%E7%89%87%2F HTTP/1.1\" 200 80843\n",
      "2023-02-26 22:28:11,659 - urllib3.connectionpool - DEBUG - http://192.168.0.151:9000 \"GET /picture?delimiter=%2F&encoding-type=url&list-type=2&max-keys=1000&prefix=saigao%2F%E8%B5%9B%E9%AB%98%E9%85%B1%20-%20JK%E6%B0%B4%E6%89%8B%E6%9C%8D%26%E8%8D%89%E8%8E%93%E8%90%9D%E8%8E%89%E8%A3%99%2F%E8%A7%86%E9%A2%91%2F HTTP/1.1\" 200 5854\n",
      "2023-02-26 22:28:11,726 - urllib3.connectionpool - DEBUG - http://192.168.0.151:9000 \"GET /picture?delimiter=%2F&encoding-type=url&list-type=2&max-keys=1000&prefix=saigao%2F%E8%B5%9B%E9%AB%98%E9%85%B1%20-%20%E5%85%94%E5%AD%90%E4%B9%9F%E9%9C%80%E8%A6%81%E7%89%9B%E5%A5%B6%2F HTTP/1.1\" 200 735\n",
      "2023-02-26 22:28:11,746 - urllib3.connectionpool - DEBUG - http://192.168.0.151:9000 \"GET /picture?delimiter=%2F&encoding-type=url&list-type=2&max-keys=1000&prefix=saigao%2F%E8%B5%9B%E9%AB%98%E9%85%B1%20-%20%E5%85%94%E5%AD%90%E4%B9%9F%E9%9C%80%E8%A6%81%E7%89%9B%E5%A5%B6%2F%E5%9B%BE%E5%8C%85%2F HTTP/1.1\" 200 60689\n",
      "2023-02-26 22:28:11,767 - urllib3.connectionpool - DEBUG - http://192.168.0.151:9000 \"GET /picture?delimiter=%2F&encoding-type=url&list-type=2&max-keys=1000&prefix=saigao%2F%E8%B5%9B%E9%AB%98%E9%85%B1%20-%20%E5%85%94%E5%AD%90%E4%B9%9F%E9%9C%80%E8%A6%81%E7%89%9B%E5%A5%B6%2F%E8%A7%86%E9%A2%91%2F HTTP/1.1\" 200 4244\n",
      "2023-02-26 22:28:11,787 - urllib3.connectionpool - DEBUG - http://192.168.0.151:9000 \"GET /picture?delimiter=%2F&encoding-type=url&list-type=2&max-keys=1000&prefix=saigao%2F%E8%B5%9B%E9%AB%98%E9%85%B1%20-%20%E5%8D%95%E8%BA%AB%E8%8A%82%E7%89%B9%E5%88%8A%EF%BC%9A%E4%BA%8C%E6%AC%A1%E5%85%83%E5%8F%8C%E9%A9%AC%E5%B0%BE%E7%9C%9F%E7%A9%BA%E6%B5%B4%E5%B7%BE%2F HTTP/1.1\" 200 978\n",
      "2023-02-26 22:28:11,807 - urllib3.connectionpool - DEBUG - http://192.168.0.151:9000 \"GET /picture?delimiter=%2F&encoding-type=url&list-type=2&max-keys=1000&prefix=saigao%2F%E8%B5%9B%E9%AB%98%E9%85%B1%20-%20%E5%8D%95%E8%BA%AB%E8%8A%82%E7%89%B9%E5%88%8A%EF%BC%9A%E4%BA%8C%E6%AC%A1%E5%85%83%E5%8F%8C%E9%A9%AC%E5%B0%BE%E7%9C%9F%E7%A9%BA%E6%B5%B4%E5%B7%BE%2F%E5%9B%BE%E7%89%87%2F HTTP/1.1\" 200 66205\n",
      "2023-02-26 22:28:11,824 - urllib3.connectionpool - DEBUG - http://192.168.0.151:9000 \"GET /picture?delimiter=%2F&encoding-type=url&list-type=2&max-keys=1000&prefix=saigao%2F%E8%B5%9B%E9%AB%98%E9%85%B1%20-%20%E5%8D%95%E8%BA%AB%E8%8A%82%E7%89%B9%E5%88%8A%EF%BC%9A%E4%BA%8C%E6%AC%A1%E5%85%83%E5%8F%8C%E9%A9%AC%E5%B0%BE%E7%9C%9F%E7%A9%BA%E6%B5%B4%E5%B7%BE%2F%E8%A7%86%E9%A2%91%2F HTTP/1.1\" 200 2667\n",
      "2023-02-26 22:28:11,865 - urllib3.connectionpool - DEBUG - http://192.168.0.151:9000 \"GET /picture?delimiter=%2F&encoding-type=url&list-type=2&max-keys=1000&prefix=saigao%2F%E8%B5%9B%E9%AB%98%E9%85%B1%20-%20%E6%96%B0%E7%A6%8F%E5%88%A9%E8%A7%86%E5%9B%BE%2F HTTP/1.1\" 200 681\n",
      "2023-02-26 22:28:11,887 - urllib3.connectionpool - DEBUG - http://192.168.0.151:9000 \"GET /picture?delimiter=%2F&encoding-type=url&list-type=2&max-keys=1000&prefix=saigao%2F%E8%B5%9B%E9%AB%98%E9%85%B1%20-%20%E6%96%B0%E7%A6%8F%E5%88%A9%E8%A7%86%E5%9B%BE%2F%E5%9B%BE%E7%89%87%2F HTTP/1.1\" 200 60987\n",
      "2023-02-26 22:28:11,903 - urllib3.connectionpool - DEBUG - http://192.168.0.151:9000 \"GET /picture?delimiter=%2F&encoding-type=url&list-type=2&max-keys=1000&prefix=saigao%2F%E8%B5%9B%E9%AB%98%E9%85%B1%20-%20%E6%96%B0%E7%A6%8F%E5%88%A9%E8%A7%86%E5%9B%BE%2F%E8%A7%86%E9%A2%91%2F HTTP/1.1\" 200 877\n",
      "2023-02-26 22:28:11,969 - urllib3.connectionpool - DEBUG - http://192.168.0.151:9000 \"GET /picture?delimiter=%2F&encoding-type=url&list-type=2&max-keys=1000&prefix=saigao%2F%E8%B5%9B%E9%AB%98%E9%85%B1%20-%20%E7%89%9B%E5%A5%B6%E4%B8%BB%E9%A2%98%E4%B8%81%E5%AD%97%E8%A3%A4%2F HTTP/1.1\" 200 735\n",
      "2023-02-26 22:28:11,989 - urllib3.connectionpool - DEBUG - http://192.168.0.151:9000 \"GET /picture?delimiter=%2F&encoding-type=url&list-type=2&max-keys=1000&prefix=saigao%2F%E8%B5%9B%E9%AB%98%E9%85%B1%20-%20%E7%89%9B%E5%A5%B6%E4%B8%BB%E9%A2%98%E4%B8%81%E5%AD%97%E8%A3%A4%2F%E5%9B%BE%E7%89%87%2F HTTP/1.1\" 200 60812\n",
      "2023-02-26 22:28:12,008 - urllib3.connectionpool - DEBUG - http://192.168.0.151:9000 \"GET /picture?delimiter=%2F&encoding-type=url&list-type=2&max-keys=1000&prefix=saigao%2F%E8%B5%9B%E9%AB%98%E9%85%B1%20-%20%E7%89%9B%E5%A5%B6%E4%B8%BB%E9%A2%98%E4%B8%81%E5%AD%97%E8%A3%A4%2F%E8%A7%86%E9%A2%91%2F HTTP/1.1\" 200 4246\n",
      "2023-02-26 22:28:12,022 - urllib3.connectionpool - DEBUG - http://192.168.0.151:9000 \"GET /picture?delimiter=%2F&encoding-type=url&list-type=2&max-keys=1000&prefix=saigao%2F%E8%B5%9B%E9%AB%98%E9%85%B1%20-%E4%B8%87%E5%9C%A3%E8%8A%82%E7%9B%B4%E6%92%AD%E7%89%B9%E5%85%B8%2F HTTP/1.1\" 200 732\n",
      "2023-02-26 22:28:12,036 - urllib3.connectionpool - DEBUG - http://192.168.0.151:9000 \"GET /picture?delimiter=%2F&encoding-type=url&list-type=2&max-keys=1000&prefix=saigao%2F%E8%B5%9B%E9%AB%98%E9%85%B1%20-%E4%B8%87%E5%9C%A3%E8%8A%82%E7%9B%B4%E6%92%AD%E7%89%B9%E5%85%B8%2F%E5%9B%BE%E7%89%87%2F HTTP/1.1\" 200 12355\n",
      "2023-02-26 22:28:12,046 - urllib3.connectionpool - DEBUG - http://192.168.0.151:9000 \"GET /picture?delimiter=%2F&encoding-type=url&list-type=2&max-keys=1000&prefix=saigao%2F%E8%B5%9B%E9%AB%98%E9%85%B1%20-%E4%B8%87%E5%9C%A3%E8%8A%82%E7%9B%B4%E6%92%AD%E7%89%B9%E5%85%B8%2F%E8%A7%86%E9%A2%91%2F HTTP/1.1\" 200 1846\n"
     ]
    },
    {
     "name": "stdout",
     "output_type": "stream",
     "text": [
      "[(159952509316628480, 'saigao', '/picture/saigao/', None, '2023-02-26 22:28:09', '2023-02-26 22:28:09', ''), (159952509819944960, '1466 赛高酱-NO.059 2019圣诞直播：轻SM兽耳尾巴 紫色衬衣 [99P1V-152MB]', '/picture/saigao/1466 赛高酱-NO.059 2019圣诞直播：轻SM兽耳尾巴 紫色衬衣 [99P1V-152MB]/', 159952509316628480, '2023-02-26 22:28:10', '2023-02-26 22:28:10', ''), (159952509962551396, '19邻家女孩粉白死库水 52图 4花絮视屏', '/picture/saigao/19邻家女孩粉白死库水 52图 4花絮视屏/', 159952509316628480, '2023-02-26 22:28:10', '2023-02-26 22:28:10', ''), (159952510042243113, '2018单身节特刊-水龙敬巫女性感内衣(128P 5V)', '/picture/saigao/2018单身节特刊-水龙敬巫女性感内衣(128P 5V)/', 159952509316628480, '2023-02-26 22:28:10', '2023-02-26 22:28:10', ''), (159952510151295046, '2019七夕特典： 黑长直色气loli水手服写真 200图  + 6长视频', '/picture/saigao/2019七夕特典： 黑长直色气loli水手服写真 200图  + 6长视频/', 159952509316628480, '2023-02-26 22:28:10', '2023-02-26 22:28:10', ''), (159952510411341992, '2019端午节特刊两套', '/picture/saigao/2019端午节特刊两套/', 159952509316628480, '2023-02-26 22:28:10', '2023-02-26 22:28:10', ''), (159952510885298177, '2019新年贺图：浴室湿身loli主题58图', '/picture/saigao/2019端午节特刊两套/2019新年贺图：浴室湿身loli主题58图/', 159952510411341992, '2023-02-26 22:28:10', '2023-02-26 22:28:10', ''), (159952510973378619, '2019新年贺图：透明黑丝性感御姐主题 40图 +9小视频', '/picture/saigao/2019端午节特刊两套/2019新年贺图：透明黑丝性感御姐主题 40图 +9小视频/', 159952510411341992, '2023-02-26 22:28:10', '2023-02-26 22:28:10', ''), (159952511057264680, '空间粉色水手服不方便发的', '/picture/saigao/2019端午节特刊两套/2019新年贺图：透明黑丝性感御姐主题 40图 +9小视频/空间粉色水手服不方便发的/', 159952510973378619, '2023-02-26 22:28:10', '2023-02-26 22:28:10', ''), (159952511111790597, '9个小视频', '/picture/saigao/2019端午节特刊两套/9个小视频/', 159952510411341992, '2023-02-26 22:28:10', '2023-02-26 22:28:10', ''), (159952511166316553, '2019邻家女孩小T恤  23图', '/picture/saigao/2019邻家女孩小T恤  23图/', 159952509316628480, '2023-02-26 22:28:10', '2023-02-26 22:28:10', ''), (159952511225036823, '2020新年特刊：双马尾草莓性感loli  47图', '/picture/saigao/2020新年特刊：双马尾草莓性感loli  47图/', 159952509316628480, '2023-02-26 22:28:10', '2023-02-26 22:28:10', ''), (159952511300534321, '2020新年贺刊： 暗黑恶魔轻SM少女 120图', '/picture/saigao/2020新年贺刊： 暗黑恶魔轻SM少女 120图/', 159952509316628480, '2023-02-26 22:28:10', '2023-02-26 22:28:10', ''), (159952511417974867, '2020新年贺刊：粉色萝莉裙 28图', '/picture/saigao/2020新年贺刊：粉色萝莉裙 28图/', 159952509316628480, '2023-02-26 22:28:10', '2023-02-26 22:28:10', ''), (159952511485083677, 'H工口小学生赛高', '/picture/saigao/H工口小学生赛高/', 159952509316628480, '2023-02-26 22:28:10', '2023-02-26 22:28:10', ''), (159952511770296320, 'H工口小学生赛高 全套VIP图包', '/picture/saigao/H工口小学生赛高/H工口小学生赛高 全套VIP图包/', 159952511485083677, '2023-02-26 22:28:10', '2023-02-26 22:28:10', ''), (159952512068091904, '小学生、', '/picture/saigao/H工口小学生赛高/H工口小学生赛高 全套VIP图包/小学生、/', 159952511770296320, '2023-02-26 22:28:10', '2023-02-26 22:28:10', ''), (159952512294584578, '微博散图', '/picture/saigao/H工口小学生赛高/H工口小学生赛高 全套VIP图包/微博散图/', 159952511770296320, '2023-02-26 22:28:10', '2023-02-26 22:28:10', ''), (159952512420413567, '粉红诱惑', '/picture/saigao/H工口小学生赛高/H工口小学生赛高 全套VIP图包/粉红诱惑/', 159952511770296320, '2023-02-26 22:28:10', '2023-02-26 22:28:10', ''), (159952512504299574, '赛高死库水系列', '/picture/saigao/H工口小学生赛高/H工口小学生赛高 全套VIP图包/赛高死库水系列/', 159952511770296320, '2023-02-26 22:28:10', '2023-02-26 22:28:10', ''), (159952512604962905, '赛高黑丝', '/picture/saigao/H工口小学生赛高/H工口小学生赛高 全套VIP图包/赛高黑丝/', 159952511770296320, '2023-02-26 22:28:10', '2023-02-26 22:28:10', ''), (159952512684654634, '赛高黑丝领域套图', '/picture/saigao/H工口小学生赛高/H工口小学生赛高 全套VIP图包/赛高黑丝领域套图/', 159952511770296320, '2023-02-26 22:28:10', '2023-02-26 22:28:10', ''), (159952512772735059, 'H工口小学生赛高作品：东条希睡衣 童颜巨乳 [87P+6V86MB]', '/picture/saigao/H工口小学生赛高/H工口小学生赛高作品：东条希睡衣 童颜巨乳 [87P+6V86MB]/', 159952511485083677, '2023-02-26 22:28:10', '2023-02-26 22:28:10', ''), (159952512869204058, '视频', '/picture/saigao/H工口小学生赛高/H工口小学生赛高作品：东条希睡衣 童颜巨乳 [87P+6V86MB]/视频/', 159952512772735059, '2023-02-26 22:28:10', '2023-02-26 22:28:10', ''), (159952512927924233, 'H工口小学生赛高作品：浪漫七夕[60P29MB]', '/picture/saigao/H工口小学生赛高/H工口小学生赛高作品：浪漫七夕[60P29MB]/', 159952511485083677, '2023-02-26 22:28:10', '2023-02-26 22:28:10', ''), (159952513016004671, 'H工口小学生赛高作品：牛仔裤[40P16MB]', '/picture/saigao/H工口小学生赛高/H工口小学生赛高作品：牛仔裤[40P16MB]/', 159952511485083677, '2023-02-26 22:28:10', '2023-02-26 22:28:10', ''), (159952513091502123, 'H工口小学生赛高—第四本特刊全套内衣 (33P)', '/picture/saigao/H工口小学生赛高—第四本特刊全套内衣 (33P)/', 159952509316628480, '2023-02-26 22:28:10', '2023-02-26 22:28:10', ''), (159952513175388195, '[萝莉赛高]五一特刊', '/picture/saigao/[萝莉赛高]五一特刊/', 159952509316628480, '2023-02-26 22:28:10', '2023-02-26 22:28:10', ''), (159952513389297664, '图包', '/picture/saigao/[萝莉赛高]五一特刊/图包/', 159952513175388195, '2023-02-26 22:28:10', '2023-02-26 22:28:10', ''), (159952513477378126, '视频', '/picture/saigao/[萝莉赛高]五一特刊/视频/', 159952513175388195, '2023-02-26 22:28:10', '2023-02-26 22:28:10', ''), (159952513527709699, '七夕特刊：血小板美少女 70图+5视频', '/picture/saigao/七夕特刊：血小板美少女 70图+5视频/', 159952509316628480, '2023-02-26 22:28:10', '2023-02-26 22:28:10', ''), (159952513619984459, '小学生赛高 - 国庆特刊 脱掉你纯白衬衫', '/picture/saigao/小学生赛高 - 国庆特刊 脱掉你纯白衬衫/', 159952509316628480, '2023-02-26 22:28:11', '2023-02-26 22:28:11', ''), (159952513682898944, 'H工口小学生赛高 - 国庆特刊 脱掉你纯白衬衫', '/picture/saigao/小学生赛高 - 国庆特刊 脱掉你纯白衬衫/H工口小学生赛高 - 国庆特刊 脱掉你纯白衬衫/', 159952513619984459, '2023-02-26 22:28:11', '2023-02-26 22:28:11', ''), (159952513766785084, '我的资源', '/picture/saigao/我的资源/', 159952509316628480, '2023-02-26 22:28:11', '2023-02-26 22:28:11', ''), (159952513825505280, '白丝足控', '/picture/saigao/我的资源/白丝足控/', 159952513766785084, '2023-02-26 22:28:11', '2023-02-26 22:28:11', ''), (159952513905197120, '抱走赛高[58P29M]', '/picture/saigao/抱走赛高[58P29M]/', 159952509316628480, '2023-02-26 22:28:11', '2023-02-26 22:28:11', ''), (159952513984888890, '生日主题：粉色衬衣齐B牛仔裤 43图', '/picture/saigao/生日主题：粉色衬衣齐B牛仔裤 43图/', 159952509316628480, '2023-02-26 22:28:11', '2023-02-26 22:28:11', ''), (159952514060386336, '空间更新', '/picture/saigao/生日主题：粉色衬衣齐B牛仔裤 43图/空间更新/', 159952513984888890, '2023-02-26 22:28:11', '2023-02-26 22:28:11', ''), (159952514131689483, '私定1万：JK水手服', '/picture/saigao/私定1万：JK水手服/', 159952509316628480, '2023-02-26 22:28:11', '2023-02-26 22:28:11', ''), (159952514236547168, '私定1万：国产校服蓝色 萝莉白虎', '/picture/saigao/私定1万：国产校服蓝色 萝莉白虎/', 159952509316628480, '2023-02-26 22:28:11', '2023-02-26 22:28:11', ''), (159952514379153557, '视频', '/picture/saigao/私定1万：国产校服蓝色 萝莉白虎/视频/', 159952514236547168, '2023-02-26 22:28:11', '2023-02-26 22:28:11', ''), (159952514429485064, '私定1万：性感套套牛奶主题丁字裤', '/picture/saigao/私定1万：性感套套牛奶主题丁字裤/', 159952509316628480, '2023-02-26 22:28:11', '2023-02-26 22:28:11', ''), (159952514555314176, '私定1万：私密青春期', '/picture/saigao/私定1万：私密青春期/', 159952509316628480, '2023-02-26 22:28:11', '2023-02-26 22:28:11', ''), (159952514676949044, '私定1万：粉白蓝白条纹三角内衣', '/picture/saigao/私定1万：粉白蓝白条纹三角内衣/', 159952509316628480, '2023-02-26 22:28:11', '2023-02-26 22:28:11', ''), (159952514756640796, '私定1万：粉色绣花肚兜 极度诱惑', '/picture/saigao/私定1万：粉色绣花肚兜 极度诱惑/', 159952509316628480, '2023-02-26 22:28:11', '2023-02-26 22:28:11', ''), (159952514827943983, '私定1万：草莓小方形内衣', '/picture/saigao/私定1万：草莓小方形内衣/', 159952509316628480, '2023-02-26 22:28:11', '2023-02-26 22:28:11', ''), (159952514899247144, '私定1万：草莓萝莉裙', '/picture/saigao/私定1万：草莓萝莉裙/', 159952509316628480, '2023-02-26 22:28:11', '2023-02-26 22:28:11', ''), (159952514991521867, '私定1万：透明纱 红色丁字裤', '/picture/saigao/私定1万：透明纱 红色丁字裤/', 159952509316628480, '2023-02-26 22:28:11', '2023-02-26 22:28:11', ''), (159952515067019304, '私定1万：黑丝旗袍', '/picture/saigao/私定1万：黑丝旗袍/', 159952509316628480, '2023-02-26 22:28:11', '2023-02-26 22:28:11', ''), (159952515138322473, '私定1万：黑丝漏乳内衣', '/picture/saigao/私定1万：黑丝漏乳内衣/', 159952509316628480, '2023-02-26 22:28:11', '2023-02-26 22:28:11', ''), (159952515213819944, '私定1万：黑白情趣内衣&透明水手服 漏出', '/picture/saigao/私定1万：黑白情趣内衣&透明水手服 漏出/', 159952509316628480, '2023-02-26 22:28:11', '2023-02-26 22:28:11', ''), (159952515348037761, '私定1万：黑色小三角内衣', '/picture/saigao/私定1万：黑色小三角内衣/', 159952509316628480, '2023-02-26 22:28:11', '2023-02-26 22:28:11', ''), (159952515427729423, '端午特卖：守望先锋dva比基尼泳装 70图', '/picture/saigao/端午特卖：守望先锋dva比基尼泳装 70图/', 159952509316628480, '2023-02-26 22:28:11', '2023-02-26 22:28:11', ''), (159952515515809837, '给你打针的护士妹妹  41图', '/picture/saigao/给你打针的护士妹妹  41图/', 159952509316628480, '2023-02-26 22:28:11', '2023-02-26 22:28:11', ''), (159952515587113001, '赛高 - 2019新年特刊 浴室湿身loli主题 55P5V', '/picture/saigao/赛高 - 2019新年特刊 浴室湿身loli主题 55P5V/', 159952509316628480, '2023-02-26 22:28:11', '2023-02-26 22:28:11', ''), (159952515654221824, '赛高 - 2019新年特刊 浴室湿身loli主题 55P5V', '/picture/saigao/赛高 - 2019新年特刊 浴室湿身loli主题 55P5V/赛高 - 2019新年特刊 浴室湿身loli主题 55P5V/', 159952515587113001, '2023-02-26 22:28:11', '2023-02-26 22:28:11', ''), (159952515746496577, '赛高夏日特刊 皮卡丘比基尼43P', '/picture/saigao/赛高夏日特刊 皮卡丘比基尼43P/', 159952509316628480, '2023-02-26 22:28:11', '2023-02-26 22:28:11', ''), (159952515826188327, '赛高酱 - JK水手服&草莓萝莉裙', '/picture/saigao/赛高酱 - JK水手服&草莓萝莉裙/', 159952509316628480, '2023-02-26 22:28:11', '2023-02-26 22:28:11', ''), (159952516107206656, '图片', '/picture/saigao/赛高酱 - JK水手服&草莓萝莉裙/图片/', 159952515826188327, '2023-02-26 22:28:11', '2023-02-26 22:28:11', ''), (159952516249813054, '视频', '/picture/saigao/赛高酱 - JK水手服&草莓萝莉裙/视频/', 159952515826188327, '2023-02-26 22:28:11', '2023-02-26 22:28:11', ''), (159952516300144651, '赛高酱 - 兔子也需要牛奶', '/picture/saigao/赛高酱 - 兔子也需要牛奶/', 159952509316628480, '2023-02-26 22:28:11', '2023-02-26 22:28:11', ''), (159952516581163008, '图包', '/picture/saigao/赛高酱 - 兔子也需要牛奶/图包/', 159952516300144651, '2023-02-26 22:28:11', '2023-02-26 22:28:11', ''), (159952516694409342, '视频', '/picture/saigao/赛高酱 - 兔子也需要牛奶/视频/', 159952516300144651, '2023-02-26 22:28:11', '2023-02-26 22:28:11', ''), (159952516753129480, '赛高酱 - 单身节特刊：二次元双马尾真空浴巾', '/picture/saigao/赛高酱 - 单身节特刊：二次元双马尾真空浴巾/', 159952509316628480, '2023-02-26 22:28:11', '2023-02-26 22:28:11', ''), (159952516837015552, '图片', '/picture/saigao/赛高酱 - 单身节特刊：二次元双马尾真空浴巾/图片/', 159952516753129480, '2023-02-26 22:28:11', '2023-02-26 22:28:11', ''), (159952516946067577, '视频', '/picture/saigao/赛高酱 - 单身节特刊：二次元双马尾真空浴巾/视频/', 159952516753129480, '2023-02-26 22:28:11', '2023-02-26 22:28:11', ''), (159952516992204804, '赛高酱 - 新福利视图', '/picture/saigao/赛高酱 - 新福利视图/', 159952509316628480, '2023-02-26 22:28:11', '2023-02-26 22:28:11', ''), (159952517164171264, '图片', '/picture/saigao/赛高酱 - 新福利视图/图片/', 159952516992204804, '2023-02-26 22:28:11', '2023-02-26 22:28:11', ''), (159952517277417603, '视频', '/picture/saigao/赛高酱 - 新福利视图/视频/', 159952516992204804, '2023-02-26 22:28:11', '2023-02-26 22:28:11', ''), (159952517319360513, '赛高酱 - 牛奶主题丁字裤', '/picture/saigao/赛高酱 - 牛奶主题丁字裤/', 159952509316628480, '2023-02-26 22:28:11', '2023-02-26 22:28:11', ''), (159952517596184576, '图片', '/picture/saigao/赛高酱 - 牛奶主题丁字裤/图片/', 159952517319360513, '2023-02-26 22:28:11', '2023-02-26 22:28:11', ''), (159952517713625088, '视频', '/picture/saigao/赛高酱 - 牛奶主题丁字裤/视频/', 159952517319360513, '2023-02-26 22:28:11', '2023-02-26 22:28:11', ''), (159952517763956744, '赛高酱 -万圣节直播特典', '/picture/saigao/赛高酱 -万圣节直播特典/', 159952509316628480, '2023-02-26 22:28:12', '2023-02-26 22:28:12', ''), (159952517822676992, '图片', '/picture/saigao/赛高酱 -万圣节直播特典/图片/', 159952517763956744, '2023-02-26 22:28:12', '2023-02-26 22:28:12', ''), (159952517885591577, '视频', '/picture/saigao/赛高酱 -万圣节直播特典/视频/', 159952517763956744, '2023-02-26 22:28:12', '2023-02-26 22:28:12', '')]\n",
      "====================\n"
     ]
    }
   ],
   "source": [
    "dirList,fileList = getFiles('picture','/',None)\n",
    "print(dirList)\n",
    "print(\"====================\")\n",
    "writeToDb('images',dirList,fileList)"
   ]
  },
  {
   "cell_type": "code",
   "execution_count": 33,
   "metadata": {},
   "outputs": [
    {
     "name": "stderr",
     "output_type": "stream",
     "text": [
      "2023-02-26 22:21:58,682 - urllib3.connectionpool - DEBUG - Starting new HTTP connection (82): 192.168.0.151:9000\n",
      "2023-02-26 22:21:58,737 - urllib3.connectionpool - DEBUG - http://192.168.0.151:9000 \"GET /video?delimiter=&encoding-type=url&list-type=2&max-keys=1000&prefix=%2F HTTP/1.1\" 200 42850\n",
      "2023-02-26 22:21:58,764 - urllib3.connectionpool - DEBUG - http://192.168.0.151:9000 \"GET /video/29%20%E5%A4%A7%E9%95%BF%E8%85%BF%E5%B0%8F%E5%A7%90%E5%A7%90%20%E8%AF%B1%E4%BA%BA%E7%9A%84%E9%B2%8D%E9%B1%BC%20%E5%A4%A7%E5%B1%8C%E4%BD%BF%E5%8A%B2%E5%B9%B2%E5%A5%B9%E7%9A%84%E5%B0%8F%E9%AA%9A%E9%80%BC%20%E6%93%8D%E5%AE%8C%E7%94%A8%E9%87%91%E6%89%8B%E6%8C%87%E7%BB%A7%E7%BB%AD%E7%88%BD/.120917.torrent HTTP/1.1\" 200 39374\n",
      "2023-02-26 22:21:58,779 - urllib3.connectionpool - DEBUG - http://192.168.0.151:9000 \"GET /video/29%20%E5%A4%A7%E9%95%BF%E8%85%BF%E5%B0%8F%E5%A7%90%E5%A7%90%20%E8%AF%B1%E4%BA%BA%E7%9A%84%E9%B2%8D%E9%B1%BC%20%E5%A4%A7%E5%B1%8C%E4%BD%BF%E5%8A%B2%E5%B9%B2%E5%A5%B9%E7%9A%84%E5%B0%8F%E9%AA%9A%E9%80%BC%20%E6%93%8D%E5%AE%8C%E7%94%A8%E9%87%91%E6%89%8B%E6%8C%87%E7%BB%A7%E7%BB%AD%E7%88%BD/.838C6EDC545C2A2974A378D7F80C68F1D03D08D0.js HTTP/1.1\" 200 148\n",
      "2023-02-26 22:21:58,799 - urllib3.connectionpool - DEBUG - http://192.168.0.151:9000 \"GET /video/29%20%E5%A4%A7%E9%95%BF%E8%85%BF%E5%B0%8F%E5%A7%90%E5%A7%90%20%E8%AF%B1%E4%BA%BA%E7%9A%84%E9%B2%8D%E9%B1%BC%20%E5%A4%A7%E5%B1%8C%E4%BD%BF%E5%8A%B2%E5%B9%B2%E5%A5%B9%E7%9A%84%E5%B0%8F%E9%AA%9A%E9%80%BC%20%E6%93%8D%E5%AE%8C%E7%94%A8%E9%87%91%E6%89%8B%E6%8C%87%E7%BB%A7%E7%BB%AD%E7%88%BD/29%20%E5%A4%A7%E9%95%BF%E8%85%BF%E5%B0%8F%E5%A7%90%E5%A7%90%20%E8%AF%B1%E4%BA%BA%E7%9A%84%E9%B2%8D%E9%B1%BC%20%E5%A4%A7%E5%B1%8C%E4%BD%BF%E5%8A%B2%E5%B9%B2%E5%A5%B9%E7%9A%84%E5%B0%8F%E9%AA%9A%E9%80%BC%20%E6%93%8D%E5%AE%8C%E7%94%A8%E9%87%91%E6%89%8B%E6%8C%87%E7%BB%A7%E7%BB%AD%E7%88%BD.mp4 HTTP/1.1\" 200 107555919\n"
     ]
    },
    {
     "name": "stdout",
     "output_type": "stream",
     "text": [
      "82e4ab58cfe05974130a00a674a765c1\n",
      "95caaa46317b5827808cb2491803ec25\n"
     ]
    },
    {
     "name": "stderr",
     "output_type": "stream",
     "text": [
      "2023-02-26 22:22:00,845 - urllib3.connectionpool - DEBUG - http://192.168.0.151:9000 \"GET /video/aki%E7%A7%8B%E6%B0%B4%20%E5%8F%8C%E9%AB%98%E8%B7%9F%E9%9E%8B%E7%9A%84%E9%9E%8B%E9%9D%A2%E6%95%B2%E5%87%BB%E4%BB%A5%E5%8F%8A%E8%AF%95%E7%A9%BF%E8%B5%B0%E8%B7%AF%E5%A3%B0%E9%9F%B3%20%E9%BB%91%E4%B8%9D%20%E7%99%BD%E4%B8%9D%20jiojio%E7%88%B1%E5%A5%BD%E8%80%85%E5%85%A5%EF%BC%81%E3%80%901asmr.top%E3%80%91/115%E8%B5%84%E6%BA%90%E8%BD%AC%E5%AD%98%E6%96%B9%E6%B3%95.txt HTTP/1.1\" 200 35\n",
      "2023-02-26 22:22:00,860 - urllib3.connectionpool - DEBUG - http://192.168.0.151:9000 \"GET /video/aki%E7%A7%8B%E6%B0%B4%20%E5%8F%8C%E9%AB%98%E8%B7%9F%E9%9E%8B%E7%9A%84%E9%9E%8B%E9%9D%A2%E6%95%B2%E5%87%BB%E4%BB%A5%E5%8F%8A%E8%AF%95%E7%A9%BF%E8%B5%B0%E8%B7%AF%E5%A3%B0%E9%9F%B3%20%E9%BB%91%E4%B8%9D%20%E7%99%BD%E4%B8%9D%20jiojio%E7%88%B1%E5%A5%BD%E8%80%85%E5%85%A5%EF%BC%81%E3%80%901asmr.top%E3%80%91/aki%E7%A7%8B%E6%B0%B4%20%E5%8F%8C%E9%AB%98%E8%B7%9F%E9%9E%8B%E7%9A%84%E9%9E%8B%E9%9D%A2%E6%95%B2%E5%87%BB%E4%BB%A5%E5%8F%8A%E8%AF%95%E7%A9%BF%E8%B5%B0%E8%B7%AF%E5%A3%B0%E9%9F%B3%20%E9%BB%91%E4%B8%9D%20%E7%99%BD%E4%B8%9D%20jiojio%E7%88%B1%E5%A5%BD%E8%80%85%E5%85%A5%EF%BC%81.mp4 HTTP/1.1\" 200 173745276\n"
     ]
    },
    {
     "name": "stdout",
     "output_type": "stream",
     "text": [
      "3e8dc26bdd665cf8dd2cb8b9933fdd50\n",
      "c0807ee632b030f74fcd5c94e76e4fe8\n"
     ]
    },
    {
     "name": "stderr",
     "output_type": "stream",
     "text": [
      "2023-02-26 22:22:04,119 - urllib3.connectionpool - DEBUG - http://192.168.0.151:9000 \"GET /video/aki%E7%A7%8B%E6%B0%B4%20%E5%8F%8C%E9%AB%98%E8%B7%9F%E9%9E%8B%E7%9A%84%E9%9E%8B%E9%9D%A2%E6%95%B2%E5%87%BB%E4%BB%A5%E5%8F%8A%E8%AF%95%E7%A9%BF%E8%B5%B0%E8%B7%AF%E5%A3%B0%E9%9F%B3%20%E9%BB%91%E4%B8%9D%20%E7%99%BD%E4%B8%9D%20jiojio%E7%88%B1%E5%A5%BD%E8%80%85%E5%85%A5%EF%BC%81%E3%80%901asmr.top%E3%80%91/%E5%85%8D%E8%B4%B9ASMR%E8%B5%84%E6%96%99%EF%BC%8C%E5%B0%BD%E5%9C%A81asmr.top.txt HTTP/1.1\" 200 77\n",
      "2023-02-26 22:22:04,145 - urllib3.connectionpool - DEBUG - http://192.168.0.151:9000 \"GET /video/aki%E7%A7%8B%E6%B0%B4%20%E5%8F%8C%E9%AB%98%E8%B7%9F%E9%9E%8B%E7%9A%84%E9%9E%8B%E9%9D%A2%E6%95%B2%E5%87%BB%E4%BB%A5%E5%8F%8A%E8%AF%95%E7%A9%BF%E8%B5%B0%E8%B7%AF%E5%A3%B0%E9%9F%B3%20%E9%BB%91%E4%B8%9D%20%E7%99%BD%E4%B8%9D%20jiojio%E7%88%B1%E5%A5%BD%E8%80%85%E5%85%A5%EF%BC%81%E3%80%901asmr.top%E3%80%91/%E5%BF%85%E8%AF%BB.txt HTTP/1.1\" 200 75\n",
      "2023-02-26 22:22:04,158 - urllib3.connectionpool - DEBUG - http://192.168.0.151:9000 \"GET /video/aki%E7%A7%8B%E6%B0%B4%20%E5%8F%8C%E9%AB%98%E8%B7%9F%E9%9E%8B%E7%9A%84%E9%9E%8B%E9%9D%A2%E6%95%B2%E5%87%BB%E4%BB%A5%E5%8F%8A%E8%AF%95%E7%A9%BF%E8%B5%B0%E8%B7%AF%E5%A3%B0%E9%9F%B3%20%E9%BB%91%E4%B8%9D%20%E7%99%BD%E4%B8%9D%20jiojio%E7%88%B1%E5%A5%BD%E8%80%85%E5%85%A5%EF%BC%81%E3%80%901asmr.top%E3%80%91/%E7%99%BE%E5%BA%A6%E7%A7%92%E4%BC%A0%E9%93%BE%E6%8E%A5%E7%9A%84%E5%88%9B%E5%BB%BA%E5%92%8C%E4%BD%BF%E7%94%A8%E6%96%B9%E6%B3%95.txt HTTP/1.1\" 200 36\n",
      "2023-02-26 22:22:04,168 - urllib3.connectionpool - DEBUG - http://192.168.0.151:9000 \"GET /video/%E8%99%8E%E7%89%99%E4%B8%8D%E6%9F%93ASMR%E7%A6%8F%E5%88%A9%E5%90%88%E9%9B%86%E3%80%901asmr.top%E3%80%91/115%E8%B5%84%E6%BA%90%E8%BD%AC%E5%AD%98%E6%96%B9%E6%B3%95.txt HTTP/1.1\" 200 35\n",
      "2023-02-26 22:22:04,180 - urllib3.connectionpool - DEBUG - http://192.168.0.151:9000 \"GET /video/%E8%99%8E%E7%89%99%E4%B8%8D%E6%9F%93ASMR%E7%A6%8F%E5%88%A9%E5%90%88%E9%9B%86%E3%80%901asmr.top%E3%80%91/ASMR%E8%99%8E%E7%89%99%E4%B8%BB%E6%92%AD%E4%B8%8D%E6%9F%93%E6%94%B6%E8%B4%B9%E7%A6%8F%E5%88%A9.jpg HTTP/1.1\" 200 7083\n",
      "2023-02-26 22:22:04,193 - urllib3.connectionpool - DEBUG - http://192.168.0.151:9000 \"GET /video/%E8%99%8E%E7%89%99%E4%B8%8D%E6%9F%93ASMR%E7%A6%8F%E5%88%A9%E5%90%88%E9%9B%86%E3%80%901asmr.top%E3%80%91/ASMR%E8%99%8E%E7%89%99%E4%B8%BB%E6%92%AD%E4%B8%8D%E6%9F%93%E6%94%B6%E8%B4%B9%E7%A6%8F%E5%88%A9.mp4 HTTP/1.1\" 200 13273226\n"
     ]
    },
    {
     "name": "stdout",
     "output_type": "stream",
     "text": [
      "103e9ff6e04b00cb501c5488cd91a033\n",
      "9363b930aac059cbabfcccd7053caec7\n",
      "953fb0c6ed7cd2ac23e3206f418ffdb4\n",
      "4dd4a6c2c84a7468ee7aca0c42393a3e\n",
      "c0807ee632b030f74fcd5c94e76e4fe8\n",
      "f3250b01dce258264c5ce27507f139b3\n"
     ]
    },
    {
     "name": "stderr",
     "output_type": "stream",
     "text": [
      "2023-02-26 22:22:04,452 - urllib3.connectionpool - DEBUG - http://192.168.0.151:9000 \"GET /video/%E8%99%8E%E7%89%99%E4%B8%8D%E6%9F%93ASMR%E7%A6%8F%E5%88%A9%E5%90%88%E9%9B%86%E3%80%901asmr.top%E3%80%91/%E5%85%8D%E8%B4%B9ASMR%E8%B5%84%E6%96%99%EF%BC%8C%E5%B0%BD%E5%9C%A81asmr.top.txt HTTP/1.1\" 200 77\n",
      "2023-02-26 22:22:04,462 - urllib3.connectionpool - DEBUG - http://192.168.0.151:9000 \"GET /video/%E8%99%8E%E7%89%99%E4%B8%8D%E6%9F%93ASMR%E7%A6%8F%E5%88%A9%E5%90%88%E9%9B%86%E3%80%901asmr.top%E3%80%91/%E5%BF%85%E8%AF%BB.txt HTTP/1.1\" 200 75\n",
      "2023-02-26 22:22:04,472 - urllib3.connectionpool - DEBUG - http://192.168.0.151:9000 \"GET /video/%E8%99%8E%E7%89%99%E4%B8%8D%E6%9F%93ASMR%E7%A6%8F%E5%88%A9%E5%90%88%E9%9B%86%E3%80%901asmr.top%E3%80%91/%E7%99%BE%E5%BA%A6%E7%A7%92%E4%BC%A0%E9%93%BE%E6%8E%A5%E7%9A%84%E5%88%9B%E5%BB%BA%E5%92%8C%E4%BD%BF%E7%94%A8%E6%96%B9%E6%B3%95.txt HTTP/1.1\" 200 36\n",
      "2023-02-26 22:22:04,483 - urllib3.connectionpool - DEBUG - http://192.168.0.151:9000 \"GET /video/%E8%99%8E%E7%89%99%E4%B8%8D%E6%9F%93ASMR%E7%A6%8F%E5%88%A9%E5%90%88%E9%9B%86%E3%80%901asmr.top%E3%80%91/%E8%99%8E%E7%89%99%E4%B8%8D%E6%9F%93%20ASMR%E7%A6%8F%E5%88%A9%20%E7%A6%8F%E5%88%A9%20%281%29.mp4 HTTP/1.1\" 200 1784162\n",
      "2023-02-26 22:22:04,531 - urllib3.connectionpool - DEBUG - http://192.168.0.151:9000 \"GET /video/%E8%99%8E%E7%89%99%E4%B8%8D%E6%9F%93ASMR%E7%A6%8F%E5%88%A9%E5%90%88%E9%9B%86%E3%80%901asmr.top%E3%80%91/%E8%99%8E%E7%89%99%E4%B8%8D%E6%9F%93%20ASMR%E7%A6%8F%E5%88%A9%20%E7%A6%8F%E5%88%A9%20%2810%29.mp4 HTTP/1.1\" 200 3586620\n",
      "2023-02-26 22:22:04,618 - urllib3.connectionpool - DEBUG - http://192.168.0.151:9000 \"GET /video/%E8%99%8E%E7%89%99%E4%B8%8D%E6%9F%93ASMR%E7%A6%8F%E5%88%A9%E5%90%88%E9%9B%86%E3%80%901asmr.top%E3%80%91/%E8%99%8E%E7%89%99%E4%B8%8D%E6%9F%93%20ASMR%E7%A6%8F%E5%88%A9%20%E7%A6%8F%E5%88%A9%20%2811%29.mp4 HTTP/1.1\" 200 8127620\n"
     ]
    },
    {
     "name": "stdout",
     "output_type": "stream",
     "text": [
      "724f3f10495c2ac0b38bb030a5a2094a\n",
      "9363b930aac059cbabfcccd7053caec7\n",
      "953fb0c6ed7cd2ac23e3206f418ffdb4\n",
      "4dd4a6c2c84a7468ee7aca0c42393a3e\n",
      "facc8b674a12d6d5f7f751edae4fec30\n",
      "1c2b52ee7c5cf4ffbb997feedf55ec35\n"
     ]
    },
    {
     "name": "stderr",
     "output_type": "stream",
     "text": [
      "2023-02-26 22:22:04,785 - urllib3.connectionpool - DEBUG - http://192.168.0.151:9000 \"GET /video/%E8%99%8E%E7%89%99%E4%B8%8D%E6%9F%93ASMR%E7%A6%8F%E5%88%A9%E5%90%88%E9%9B%86%E3%80%901asmr.top%E3%80%91/%E8%99%8E%E7%89%99%E4%B8%8D%E6%9F%93%20ASMR%E7%A6%8F%E5%88%A9%20%E7%A6%8F%E5%88%A9%20%2813%29.mp4 HTTP/1.1\" 200 3472741\n",
      "2023-02-26 22:22:04,877 - urllib3.connectionpool - DEBUG - http://192.168.0.151:9000 \"GET /video/%E8%99%8E%E7%89%99%E4%B8%8D%E6%9F%93ASMR%E7%A6%8F%E5%88%A9%E5%90%88%E9%9B%86%E3%80%901asmr.top%E3%80%91/%E8%99%8E%E7%89%99%E4%B8%8D%E6%9F%93%20ASMR%E7%A6%8F%E5%88%A9%20%E7%A6%8F%E5%88%A9%20%2814%29.mp4 HTTP/1.1\" 200 698985\n",
      "2023-02-26 22:22:04,903 - urllib3.connectionpool - DEBUG - http://192.168.0.151:9000 \"GET /video/%E8%99%8E%E7%89%99%E4%B8%8D%E6%9F%93ASMR%E7%A6%8F%E5%88%A9%E5%90%88%E9%9B%86%E3%80%901asmr.top%E3%80%91/%E8%99%8E%E7%89%99%E4%B8%8D%E6%9F%93%20ASMR%E7%A6%8F%E5%88%A9%20%E7%A6%8F%E5%88%A9%20%2815%29.mp4 HTTP/1.1\" 200 1208134\n",
      "2023-02-26 22:22:04,939 - urllib3.connectionpool - DEBUG - http://192.168.0.151:9000 \"GET /video/%E8%99%8E%E7%89%99%E4%B8%8D%E6%9F%93ASMR%E7%A6%8F%E5%88%A9%E5%90%88%E9%9B%86%E3%80%901asmr.top%E3%80%91/%E8%99%8E%E7%89%99%E4%B8%8D%E6%9F%93%20ASMR%E7%A6%8F%E5%88%A9%20%E7%A6%8F%E5%88%A9%20%2816%29.mp4 HTTP/1.1\" 200 2414795\n"
     ]
    },
    {
     "name": "stdout",
     "output_type": "stream",
     "text": [
      "863fbfeb9a4aca8a3fcecc54767497b3\n",
      "77ff0ff42ffe8e996eebae1dc03eac09\n",
      "b4161757072eb938749cd98dabfe3568\n",
      "4c1e67cddc5625a3f328b3506f2e5df7\n"
     ]
    },
    {
     "name": "stderr",
     "output_type": "stream",
     "text": [
      "2023-02-26 22:22:05,000 - urllib3.connectionpool - DEBUG - http://192.168.0.151:9000 \"GET /video/%E8%99%8E%E7%89%99%E4%B8%8D%E6%9F%93ASMR%E7%A6%8F%E5%88%A9%E5%90%88%E9%9B%86%E3%80%901asmr.top%E3%80%91/%E8%99%8E%E7%89%99%E4%B8%8D%E6%9F%93%20ASMR%E7%A6%8F%E5%88%A9%20%E7%A6%8F%E5%88%A9%20%2817%29.mp4 HTTP/1.1\" 200 2313060\n",
      "2023-02-26 22:22:05,060 - urllib3.connectionpool - DEBUG - http://192.168.0.151:9000 \"GET /video/%E8%99%8E%E7%89%99%E4%B8%8D%E6%9F%93ASMR%E7%A6%8F%E5%88%A9%E5%90%88%E9%9B%86%E3%80%901asmr.top%E3%80%91/%E8%99%8E%E7%89%99%E4%B8%8D%E6%9F%93%20ASMR%E7%A6%8F%E5%88%A9%20%E7%A6%8F%E5%88%A9%20%2818%29.mp4 HTTP/1.1\" 200 2095949\n",
      "2023-02-26 22:22:05,113 - urllib3.connectionpool - DEBUG - http://192.168.0.151:9000 \"GET /video/%E8%99%8E%E7%89%99%E4%B8%8D%E6%9F%93ASMR%E7%A6%8F%E5%88%A9%E5%90%88%E9%9B%86%E3%80%901asmr.top%E3%80%91/%E8%99%8E%E7%89%99%E4%B8%8D%E6%9F%93%20ASMR%E7%A6%8F%E5%88%A9%20%E7%A6%8F%E5%88%A9%20%2819%29.mp4 HTTP/1.1\" 200 849933\n",
      "2023-02-26 22:22:05,144 - urllib3.connectionpool - DEBUG - http://192.168.0.151:9000 \"GET /video/%E8%99%8E%E7%89%99%E4%B8%8D%E6%9F%93ASMR%E7%A6%8F%E5%88%A9%E5%90%88%E9%9B%86%E3%80%901asmr.top%E3%80%91/%E8%99%8E%E7%89%99%E4%B8%8D%E6%9F%93%20ASMR%E7%A6%8F%E5%88%A9%20%E7%A6%8F%E5%88%A9%20%282%29.mp4 HTTP/1.1\" 200 36522626\n"
     ]
    },
    {
     "name": "stdout",
     "output_type": "stream",
     "text": [
      "eb0f427d5bd7dfcbb9880e0e64e8e3c5\n",
      "5b3adea180b3055b15222d128601b670\n",
      "93c115358593f3ac6098b19237bbc053\n",
      "2cc477de6f30569bb62f03cfab51aed1\n"
     ]
    },
    {
     "name": "stderr",
     "output_type": "stream",
     "text": [
      "2023-02-26 22:22:05,849 - urllib3.connectionpool - DEBUG - http://192.168.0.151:9000 \"GET /video/%E8%99%8E%E7%89%99%E4%B8%8D%E6%9F%93ASMR%E7%A6%8F%E5%88%A9%E5%90%88%E9%9B%86%E3%80%901asmr.top%E3%80%91/%E8%99%8E%E7%89%99%E4%B8%8D%E6%9F%93%20ASMR%E7%A6%8F%E5%88%A9%20%E7%A6%8F%E5%88%A9%20%2820%29.mp4 HTTP/1.1\" 200 1617584\n",
      "2023-02-26 22:22:05,898 - urllib3.connectionpool - DEBUG - http://192.168.0.151:9000 \"GET /video/%E8%99%8E%E7%89%99%E4%B8%8D%E6%9F%93ASMR%E7%A6%8F%E5%88%A9%E5%90%88%E9%9B%86%E3%80%901asmr.top%E3%80%91/%E8%99%8E%E7%89%99%E4%B8%8D%E6%9F%93%20ASMR%E7%A6%8F%E5%88%A9%20%E7%A6%8F%E5%88%A9%20%2821%29.mp4 HTTP/1.1\" 200 1413609\n",
      "2023-02-26 22:22:05,938 - urllib3.connectionpool - DEBUG - http://192.168.0.151:9000 \"GET /video/%E8%99%8E%E7%89%99%E4%B8%8D%E6%9F%93ASMR%E7%A6%8F%E5%88%A9%E5%90%88%E9%9B%86%E3%80%901asmr.top%E3%80%91/%E8%99%8E%E7%89%99%E4%B8%8D%E6%9F%93%20ASMR%E7%A6%8F%E5%88%A9%20%E7%A6%8F%E5%88%A9%20%2822%29.mp4 HTTP/1.1\" 200 1313219\n",
      "2023-02-26 22:22:05,977 - urllib3.connectionpool - DEBUG - http://192.168.0.151:9000 \"GET /video/%E8%99%8E%E7%89%99%E4%B8%8D%E6%9F%93ASMR%E7%A6%8F%E5%88%A9%E5%90%88%E9%9B%86%E3%80%901asmr.top%E3%80%91/%E8%99%8E%E7%89%99%E4%B8%8D%E6%9F%93%20ASMR%E7%A6%8F%E5%88%A9%20%E7%A6%8F%E5%88%A9%20%2823%29.mp4 HTTP/1.1\" 200 1790838\n",
      "2023-02-26 22:22:06,026 - urllib3.connectionpool - DEBUG - http://192.168.0.151:9000 \"GET /video/%E8%99%8E%E7%89%99%E4%B8%8D%E6%9F%93ASMR%E7%A6%8F%E5%88%A9%E5%90%88%E9%9B%86%E3%80%901asmr.top%E3%80%91/%E8%99%8E%E7%89%99%E4%B8%8D%E6%9F%93%20ASMR%E7%A6%8F%E5%88%A9%20%E7%A6%8F%E5%88%A9%20%2824%29.mp4 HTTP/1.1\" 200 1625061\n"
     ]
    },
    {
     "name": "stdout",
     "output_type": "stream",
     "text": [
      "d287db6fb8e9ab34294e7da25a1d22a9\n",
      "019f6b75e64411d12ec33a135bf464c7\n",
      "2aa61bc2fa783ad86b3b30069aa4d1db\n",
      "bcb247002a54721bfef38061f25c256c\n",
      "7cba5ceff0e0076c05968889463914e9\n"
     ]
    },
    {
     "name": "stderr",
     "output_type": "stream",
     "text": [
      "2023-02-26 22:22:06,074 - urllib3.connectionpool - DEBUG - http://192.168.0.151:9000 \"GET /video/%E8%99%8E%E7%89%99%E4%B8%8D%E6%9F%93ASMR%E7%A6%8F%E5%88%A9%E5%90%88%E9%9B%86%E3%80%901asmr.top%E3%80%91/%E8%99%8E%E7%89%99%E4%B8%8D%E6%9F%93%20ASMR%E7%A6%8F%E5%88%A9%20%E7%A6%8F%E5%88%A9%20%2825%29.mp4 HTTP/1.1\" 200 1240989\n",
      "2023-02-26 22:22:06,110 - urllib3.connectionpool - DEBUG - http://192.168.0.151:9000 \"GET /video/%E8%99%8E%E7%89%99%E4%B8%8D%E6%9F%93ASMR%E7%A6%8F%E5%88%A9%E5%90%88%E9%9B%86%E3%80%901asmr.top%E3%80%91/%E8%99%8E%E7%89%99%E4%B8%8D%E6%9F%93%20ASMR%E7%A6%8F%E5%88%A9%20%E7%A6%8F%E5%88%A9%20%2826%29.mp4 HTTP/1.1\" 200 1821640\n",
      "2023-02-26 22:22:06,162 - urllib3.connectionpool - DEBUG - http://192.168.0.151:9000 \"GET /video/%E8%99%8E%E7%89%99%E4%B8%8D%E6%9F%93ASMR%E7%A6%8F%E5%88%A9%E5%90%88%E9%9B%86%E3%80%901asmr.top%E3%80%91/%E8%99%8E%E7%89%99%E4%B8%8D%E6%9F%93%20ASMR%E7%A6%8F%E5%88%A9%20%E7%A6%8F%E5%88%A9%20%2828%29.mp4 HTTP/1.1\" 200 2815162\n",
      "2023-02-26 22:22:06,233 - urllib3.connectionpool - DEBUG - http://192.168.0.151:9000 \"GET /video/%E8%99%8E%E7%89%99%E4%B8%8D%E6%9F%93ASMR%E7%A6%8F%E5%88%A9%E5%90%88%E9%9B%86%E3%80%901asmr.top%E3%80%91/%E8%99%8E%E7%89%99%E4%B8%8D%E6%9F%93%20ASMR%E7%A6%8F%E5%88%A9%20%E7%A6%8F%E5%88%A9%20%2829%29.mp4 HTTP/1.1\" 200 1528122\n"
     ]
    },
    {
     "name": "stdout",
     "output_type": "stream",
     "text": [
      "60c20fb3f243e8e3ed4dc95b953cad63\n",
      "d54ffe568390bf9c13d3b0a857d86a5d\n",
      "b54b10d1900b0beabd6392fa5757242d\n",
      "2aa8bb6e7994ad07b4ca5c1801c39eec\n"
     ]
    },
    {
     "name": "stderr",
     "output_type": "stream",
     "text": [
      "2023-02-26 22:22:06,277 - urllib3.connectionpool - DEBUG - http://192.168.0.151:9000 \"GET /video/%E8%99%8E%E7%89%99%E4%B8%8D%E6%9F%93ASMR%E7%A6%8F%E5%88%A9%E5%90%88%E9%9B%86%E3%80%901asmr.top%E3%80%91/%E8%99%8E%E7%89%99%E4%B8%8D%E6%9F%93%20ASMR%E7%A6%8F%E5%88%A9%20%E7%A6%8F%E5%88%A9%20%283%29.mp4 HTTP/1.1\" 200 2659325\n",
      "2023-02-26 22:22:06,343 - urllib3.connectionpool - DEBUG - http://192.168.0.151:9000 \"GET /video/%E8%99%8E%E7%89%99%E4%B8%8D%E6%9F%93ASMR%E7%A6%8F%E5%88%A9%E5%90%88%E9%9B%86%E3%80%901asmr.top%E3%80%91/%E8%99%8E%E7%89%99%E4%B8%8D%E6%9F%93%20ASMR%E7%A6%8F%E5%88%A9%20%E7%A6%8F%E5%88%A9%20%2830%29.mp4 HTTP/1.1\" 200 1630593\n",
      "2023-02-26 22:22:06,390 - urllib3.connectionpool - DEBUG - http://192.168.0.151:9000 \"GET /video/%E8%99%8E%E7%89%99%E4%B8%8D%E6%9F%93ASMR%E7%A6%8F%E5%88%A9%E5%90%88%E9%9B%86%E3%80%901asmr.top%E3%80%91/%E8%99%8E%E7%89%99%E4%B8%8D%E6%9F%93%20ASMR%E7%A6%8F%E5%88%A9%20%E7%A6%8F%E5%88%A9%20%2831%29.mp4 HTTP/1.1\" 200 5659460\n"
     ]
    },
    {
     "name": "stdout",
     "output_type": "stream",
     "text": [
      "b48d2bfaa21465710281895a6738a73d\n",
      "2fcf9b920eafc18a840746f8cefe094b\n",
      "706458d1cd285e24d7becf3a1d8354de\n"
     ]
    },
    {
     "name": "stderr",
     "output_type": "stream",
     "text": [
      "2023-02-26 22:22:06,513 - urllib3.connectionpool - DEBUG - http://192.168.0.151:9000 \"GET /video/%E8%99%8E%E7%89%99%E4%B8%8D%E6%9F%93ASMR%E7%A6%8F%E5%88%A9%E5%90%88%E9%9B%86%E3%80%901asmr.top%E3%80%91/%E8%99%8E%E7%89%99%E4%B8%8D%E6%9F%93%20ASMR%E7%A6%8F%E5%88%A9%20%E7%A6%8F%E5%88%A9%20%2832%29.mp4 HTTP/1.1\" 200 1797959\n",
      "2023-02-26 22:22:06,563 - urllib3.connectionpool - DEBUG - http://192.168.0.151:9000 \"GET /video/%E8%99%8E%E7%89%99%E4%B8%8D%E6%9F%93ASMR%E7%A6%8F%E5%88%A9%E5%90%88%E9%9B%86%E3%80%901asmr.top%E3%80%91/%E8%99%8E%E7%89%99%E4%B8%8D%E6%9F%93%20ASMR%E7%A6%8F%E5%88%A9%20%E7%A6%8F%E5%88%A9%20%2833%29.mp4 HTTP/1.1\" 200 2220036\n",
      "2023-02-26 22:22:06,627 - urllib3.connectionpool - DEBUG - http://192.168.0.151:9000 \"GET /video/%E8%99%8E%E7%89%99%E4%B8%8D%E6%9F%93ASMR%E7%A6%8F%E5%88%A9%E5%90%88%E9%9B%86%E3%80%901asmr.top%E3%80%91/%E8%99%8E%E7%89%99%E4%B8%8D%E6%9F%93%20ASMR%E7%A6%8F%E5%88%A9%20%E7%A6%8F%E5%88%A9%20%2835%29.mp4 HTTP/1.1\" 200 3365174\n",
      "2023-02-26 22:22:06,701 - urllib3.connectionpool - DEBUG - http://192.168.0.151:9000 \"GET /video/%E8%99%8E%E7%89%99%E4%B8%8D%E6%9F%93ASMR%E7%A6%8F%E5%88%A9%E5%90%88%E9%9B%86%E3%80%901asmr.top%E3%80%91/%E8%99%8E%E7%89%99%E4%B8%8D%E6%9F%93%20ASMR%E7%A6%8F%E5%88%A9%20%E7%A6%8F%E5%88%A9%20%2838%29.mp4 HTTP/1.1\" 200 1072387\n"
     ]
    },
    {
     "name": "stdout",
     "output_type": "stream",
     "text": [
      "a0022dd3ebb7b9cef1dd753fe791ae1b\n",
      "02d807943de102be5c26433eb06a104c\n",
      "f99af5529d35445fb9488ce930dcf6d8\n",
      "9352eaa317d59be8874db3f2ef323712\n"
     ]
    },
    {
     "name": "stderr",
     "output_type": "stream",
     "text": [
      "2023-02-26 22:22:06,738 - urllib3.connectionpool - DEBUG - http://192.168.0.151:9000 \"GET /video/%E8%99%8E%E7%89%99%E4%B8%8D%E6%9F%93ASMR%E7%A6%8F%E5%88%A9%E5%90%88%E9%9B%86%E3%80%901asmr.top%E3%80%91/%E8%99%8E%E7%89%99%E4%B8%8D%E6%9F%93%20ASMR%E7%A6%8F%E5%88%A9%20%E7%A6%8F%E5%88%A9%20%284%29.mp4 HTTP/1.1\" 200 2447871\n",
      "2023-02-26 22:22:06,797 - urllib3.connectionpool - DEBUG - http://192.168.0.151:9000 \"GET /video/%E8%99%8E%E7%89%99%E4%B8%8D%E6%9F%93ASMR%E7%A6%8F%E5%88%A9%E5%90%88%E9%9B%86%E3%80%901asmr.top%E3%80%91/%E8%99%8E%E7%89%99%E4%B8%8D%E6%9F%93%20ASMR%E7%A6%8F%E5%88%A9%20%E7%A6%8F%E5%88%A9%20%2840%29.mp4 HTTP/1.1\" 200 624385\n",
      "2023-02-26 22:22:06,826 - urllib3.connectionpool - DEBUG - http://192.168.0.151:9000 \"GET /video/%E8%99%8E%E7%89%99%E4%B8%8D%E6%9F%93ASMR%E7%A6%8F%E5%88%A9%E5%90%88%E9%9B%86%E3%80%901asmr.top%E3%80%91/%E8%99%8E%E7%89%99%E4%B8%8D%E6%9F%93%20ASMR%E7%A6%8F%E5%88%A9%20%E7%A6%8F%E5%88%A9%20%2842%29.mp4 HTTP/1.1\" 200 1342856\n",
      "2023-02-26 22:22:06,863 - urllib3.connectionpool - DEBUG - http://192.168.0.151:9000 \"GET /video/%E8%99%8E%E7%89%99%E4%B8%8D%E6%9F%93ASMR%E7%A6%8F%E5%88%A9%E5%90%88%E9%9B%86%E3%80%901asmr.top%E3%80%91/%E8%99%8E%E7%89%99%E4%B8%8D%E6%9F%93%20ASMR%E7%A6%8F%E5%88%A9%20%E7%A6%8F%E5%88%A9%20%2844%29.mp4 HTTP/1.1\" 200 3136236\n"
     ]
    },
    {
     "name": "stdout",
     "output_type": "stream",
     "text": [
      "d66caa06ced81d7ba17cef0315e439cf\n",
      "d3a8753cbc39374a50304899f791a2a6\n",
      "719f4800b9ebfe67cc381b22e395d692\n",
      "b2d9225d65706a3487f7d4868ab6a0cb\n"
     ]
    },
    {
     "name": "stderr",
     "output_type": "stream",
     "text": [
      "2023-02-26 22:22:06,940 - urllib3.connectionpool - DEBUG - http://192.168.0.151:9000 \"GET /video/%E8%99%8E%E7%89%99%E4%B8%8D%E6%9F%93ASMR%E7%A6%8F%E5%88%A9%E5%90%88%E9%9B%86%E3%80%901asmr.top%E3%80%91/%E8%99%8E%E7%89%99%E4%B8%8D%E6%9F%93%20ASMR%E7%A6%8F%E5%88%A9%20%E7%A6%8F%E5%88%A9%20%2846%29.mp4 HTTP/1.1\" 200 5926199\n",
      "2023-02-26 22:22:07,070 - urllib3.connectionpool - DEBUG - http://192.168.0.151:9000 \"GET /video/%E8%99%8E%E7%89%99%E4%B8%8D%E6%9F%93ASMR%E7%A6%8F%E5%88%A9%E5%90%88%E9%9B%86%E3%80%901asmr.top%E3%80%91/%E8%99%8E%E7%89%99%E4%B8%8D%E6%9F%93%20ASMR%E7%A6%8F%E5%88%A9%20%E7%A6%8F%E5%88%A9%20%2847%29.mp4 HTTP/1.1\" 200 4877638\n"
     ]
    },
    {
     "name": "stdout",
     "output_type": "stream",
     "text": [
      "41b5902aaec7ffbe06ebc6b9c2e1ee0d\n",
      "07a4cbd1a379b6062d3112aef51c8aa0\n"
     ]
    },
    {
     "name": "stderr",
     "output_type": "stream",
     "text": [
      "2023-02-26 22:22:07,182 - urllib3.connectionpool - DEBUG - http://192.168.0.151:9000 \"GET /video/%E8%99%8E%E7%89%99%E4%B8%8D%E6%9F%93ASMR%E7%A6%8F%E5%88%A9%E5%90%88%E9%9B%86%E3%80%901asmr.top%E3%80%91/%E8%99%8E%E7%89%99%E4%B8%8D%E6%9F%93%20ASMR%E7%A6%8F%E5%88%A9%20%E7%A6%8F%E5%88%A9%20%2848%29.mp4 HTTP/1.1\" 200 2815792\n",
      "2023-02-26 22:22:07,251 - urllib3.connectionpool - DEBUG - http://192.168.0.151:9000 \"GET /video/%E8%99%8E%E7%89%99%E4%B8%8D%E6%9F%93ASMR%E7%A6%8F%E5%88%A9%E5%90%88%E9%9B%86%E3%80%901asmr.top%E3%80%91/%E8%99%8E%E7%89%99%E4%B8%8D%E6%9F%93%20ASMR%E7%A6%8F%E5%88%A9%20%E7%A6%8F%E5%88%A9%20%2849%29.mp4 HTTP/1.1\" 200 41214441\n"
     ]
    },
    {
     "name": "stdout",
     "output_type": "stream",
     "text": [
      "7dac84b0af3937816d9d06f4e17d2086\n",
      "d8a0ec4e4cb0fad7ca5865ef3e2eb5fe\n"
     ]
    },
    {
     "name": "stderr",
     "output_type": "stream",
     "text": [
      "2023-02-26 22:22:08,026 - urllib3.connectionpool - DEBUG - http://192.168.0.151:9000 \"GET /video/%E8%99%8E%E7%89%99%E4%B8%8D%E6%9F%93ASMR%E7%A6%8F%E5%88%A9%E5%90%88%E9%9B%86%E3%80%901asmr.top%E3%80%91/%E8%99%8E%E7%89%99%E4%B8%8D%E6%9F%93%20ASMR%E7%A6%8F%E5%88%A9%20%E7%A6%8F%E5%88%A9%20%285%29.mp4 HTTP/1.1\" 200 5427407\n",
      "2023-02-26 22:22:08,143 - urllib3.connectionpool - DEBUG - http://192.168.0.151:9000 \"GET /video/%E8%99%8E%E7%89%99%E4%B8%8D%E6%9F%93ASMR%E7%A6%8F%E5%88%A9%E5%90%88%E9%9B%86%E3%80%901asmr.top%E3%80%91/%E8%99%8E%E7%89%99%E4%B8%8D%E6%9F%93%20ASMR%E7%A6%8F%E5%88%A9%20%E7%A6%8F%E5%88%A9%20%2850%29.mp4 HTTP/1.1\" 200 57797534\n"
     ]
    },
    {
     "name": "stdout",
     "output_type": "stream",
     "text": [
      "c97af0fc5cba24312aaf054f166b12ab\n",
      "7dba190b0ea1c46433b4d3555bc1d3a3\n"
     ]
    },
    {
     "name": "stderr",
     "output_type": "stream",
     "text": [
      "2023-02-26 22:22:09,225 - urllib3.connectionpool - DEBUG - http://192.168.0.151:9000 \"GET /video/%E8%99%8E%E7%89%99%E4%B8%8D%E6%9F%93ASMR%E7%A6%8F%E5%88%A9%E5%90%88%E9%9B%86%E3%80%901asmr.top%E3%80%91/%E8%99%8E%E7%89%99%E4%B8%8D%E6%9F%93%20ASMR%E7%A6%8F%E5%88%A9%20%E7%A6%8F%E5%88%A9%20%2853%29.mp4 HTTP/1.1\" 200 6401186\n",
      "2023-02-26 22:22:09,363 - urllib3.connectionpool - DEBUG - http://192.168.0.151:9000 \"GET /video/%E8%99%8E%E7%89%99%E4%B8%8D%E6%9F%93ASMR%E7%A6%8F%E5%88%A9%E5%90%88%E9%9B%86%E3%80%901asmr.top%E3%80%91/%E8%99%8E%E7%89%99%E4%B8%8D%E6%9F%93%20ASMR%E7%A6%8F%E5%88%A9%20%E7%A6%8F%E5%88%A9%20%2854%29.mp4 HTTP/1.1\" 200 2806584\n"
     ]
    },
    {
     "name": "stdout",
     "output_type": "stream",
     "text": [
      "019de8728e82391ac7195a28a16d40b8\n",
      "be88b3cac8247dd1521a72a8dfa4b50f\n"
     ]
    },
    {
     "name": "stderr",
     "output_type": "stream",
     "text": [
      "2023-02-26 22:22:09,431 - urllib3.connectionpool - DEBUG - http://192.168.0.151:9000 \"GET /video/%E8%99%8E%E7%89%99%E4%B8%8D%E6%9F%93ASMR%E7%A6%8F%E5%88%A9%E5%90%88%E9%9B%86%E3%80%901asmr.top%E3%80%91/%E8%99%8E%E7%89%99%E4%B8%8D%E6%9F%93%20ASMR%E7%A6%8F%E5%88%A9%20%E7%A6%8F%E5%88%A9%20%2855%29.mp4 HTTP/1.1\" 200 977428\n",
      "2023-02-26 22:22:09,465 - urllib3.connectionpool - DEBUG - http://192.168.0.151:9000 \"GET /video/%E8%99%8E%E7%89%99%E4%B8%8D%E6%9F%93ASMR%E7%A6%8F%E5%88%A9%E5%90%88%E9%9B%86%E3%80%901asmr.top%E3%80%91/%E8%99%8E%E7%89%99%E4%B8%8D%E6%9F%93%20ASMR%E7%A6%8F%E5%88%A9%20%E7%A6%8F%E5%88%A9%20%2856%29.mp4 HTTP/1.1\" 200 1120619\n",
      "2023-02-26 22:22:09,501 - urllib3.connectionpool - DEBUG - http://192.168.0.151:9000 \"GET /video/%E8%99%8E%E7%89%99%E4%B8%8D%E6%9F%93ASMR%E7%A6%8F%E5%88%A9%E5%90%88%E9%9B%86%E3%80%901asmr.top%E3%80%91/%E8%99%8E%E7%89%99%E4%B8%8D%E6%9F%93%20ASMR%E7%A6%8F%E5%88%A9%20%E7%A6%8F%E5%88%A9%20%2857%29.mp4 HTTP/1.1\" 200 2344637\n",
      "2023-02-26 22:22:09,561 - urllib3.connectionpool - DEBUG - http://192.168.0.151:9000 \"GET /video/%E8%99%8E%E7%89%99%E4%B8%8D%E6%9F%93ASMR%E7%A6%8F%E5%88%A9%E5%90%88%E9%9B%86%E3%80%901asmr.top%E3%80%91/%E8%99%8E%E7%89%99%E4%B8%8D%E6%9F%93%20ASMR%E7%A6%8F%E5%88%A9%20%E7%A6%8F%E5%88%A9%20%2858%29.mp4 HTTP/1.1\" 200 2671310\n"
     ]
    },
    {
     "name": "stdout",
     "output_type": "stream",
     "text": [
      "596d617673c511e3978809aaae9ccd2f\n",
      "aa90503556b4bfc2de48f931215963be\n",
      "5f9dd2a90d69f2ade4de9d0239fbe092\n",
      "cf16c9c8622ef37edc7b3e766d9ee27c\n",
      "d587926095fdbd482e92dc4eac947e08\n"
     ]
    },
    {
     "name": "stderr",
     "output_type": "stream",
     "text": [
      "2023-02-26 22:22:09,627 - urllib3.connectionpool - DEBUG - http://192.168.0.151:9000 \"GET /video/%E8%99%8E%E7%89%99%E4%B8%8D%E6%9F%93ASMR%E7%A6%8F%E5%88%A9%E5%90%88%E9%9B%86%E3%80%901asmr.top%E3%80%91/%E8%99%8E%E7%89%99%E4%B8%8D%E6%9F%93%20ASMR%E7%A6%8F%E5%88%A9%20%E7%A6%8F%E5%88%A9%20%2859%29.mp4 HTTP/1.1\" 200 2237975\n",
      "2023-02-26 22:22:09,695 - urllib3.connectionpool - DEBUG - http://192.168.0.151:9000 \"GET /video/%E8%99%8E%E7%89%99%E4%B8%8D%E6%9F%93ASMR%E7%A6%8F%E5%88%A9%E5%90%88%E9%9B%86%E3%80%901asmr.top%E3%80%91/%E8%99%8E%E7%89%99%E4%B8%8D%E6%9F%93%20ASMR%E7%A6%8F%E5%88%A9%20%E7%A6%8F%E5%88%A9%20%286%29.mp4 HTTP/1.1\" 200 1418391\n",
      "2023-02-26 22:22:09,736 - urllib3.connectionpool - DEBUG - http://192.168.0.151:9000 \"GET /video/%E8%99%8E%E7%89%99%E4%B8%8D%E6%9F%93ASMR%E7%A6%8F%E5%88%A9%E5%90%88%E9%9B%86%E3%80%901asmr.top%E3%80%91/%E8%99%8E%E7%89%99%E4%B8%8D%E6%9F%93%20ASMR%E7%A6%8F%E5%88%A9%20%E7%A6%8F%E5%88%A9%20%2860%29.mp4 HTTP/1.1\" 200 856604\n",
      "2023-02-26 22:22:09,766 - urllib3.connectionpool - DEBUG - http://192.168.0.151:9000 \"GET /video/%E8%99%8E%E7%89%99%E4%B8%8D%E6%9F%93ASMR%E7%A6%8F%E5%88%A9%E5%90%88%E9%9B%86%E3%80%901asmr.top%E3%80%91/%E8%99%8E%E7%89%99%E4%B8%8D%E6%9F%93%20ASMR%E7%A6%8F%E5%88%A9%20%E7%A6%8F%E5%88%A9%20%2861%29.mp4 HTTP/1.1\" 200 2163555\n",
      "2023-02-26 22:22:09,822 - urllib3.connectionpool - DEBUG - http://192.168.0.151:9000 \"GET /video/%E8%99%8E%E7%89%99%E4%B8%8D%E6%9F%93ASMR%E7%A6%8F%E5%88%A9%E5%90%88%E9%9B%86%E3%80%901asmr.top%E3%80%91/%E8%99%8E%E7%89%99%E4%B8%8D%E6%9F%93%20ASMR%E7%A6%8F%E5%88%A9%20%E7%A6%8F%E5%88%A9%20%2862%29.mp4 HTTP/1.1\" 200 1553684\n",
      "2023-02-26 22:22:09,866 - urllib3.connectionpool - DEBUG - http://192.168.0.151:9000 \"GET /video/%E8%99%8E%E7%89%99%E4%B8%8D%E6%9F%93ASMR%E7%A6%8F%E5%88%A9%E5%90%88%E9%9B%86%E3%80%901asmr.top%E3%80%91/%E8%99%8E%E7%89%99%E4%B8%8D%E6%9F%93%20ASMR%E7%A6%8F%E5%88%A9%20%E7%A6%8F%E5%88%A9%20%2863%29.mp4 HTTP/1.1\" 200 517987\n"
     ]
    },
    {
     "name": "stdout",
     "output_type": "stream",
     "text": [
      "f3e8f8251dbc3d8c7edad7631d7d1006\n",
      "1e8637975fb05d4ad6b2772b24beb71d\n",
      "28c0042739c5989435f9c77f6ec99285\n",
      "15ab1cd756f4f9f752c6627cfa15c1dd\n",
      "8cbc654bf1326610eb226c17d7c6561b\n",
      "915ffdda218a90e6bb53d77ae97be89a\n"
     ]
    },
    {
     "name": "stderr",
     "output_type": "stream",
     "text": [
      "2023-02-26 22:22:09,888 - urllib3.connectionpool - DEBUG - http://192.168.0.151:9000 \"GET /video/%E8%99%8E%E7%89%99%E4%B8%8D%E6%9F%93ASMR%E7%A6%8F%E5%88%A9%E5%90%88%E9%9B%86%E3%80%901asmr.top%E3%80%91/%E8%99%8E%E7%89%99%E4%B8%8D%E6%9F%93%20ASMR%E7%A6%8F%E5%88%A9%20%E7%A6%8F%E5%88%A9%20%2864%29.mp4 HTTP/1.1\" 200 456643\n",
      "2023-02-26 22:22:09,910 - urllib3.connectionpool - DEBUG - http://192.168.0.151:9000 \"GET /video/%E8%99%8E%E7%89%99%E4%B8%8D%E6%9F%93ASMR%E7%A6%8F%E5%88%A9%E5%90%88%E9%9B%86%E3%80%901asmr.top%E3%80%91/%E8%99%8E%E7%89%99%E4%B8%8D%E6%9F%93%20ASMR%E7%A6%8F%E5%88%A9%20%E7%A6%8F%E5%88%A9%20%2865%29.mp4 HTTP/1.1\" 200 2943197\n",
      "2023-02-26 22:22:09,982 - urllib3.connectionpool - DEBUG - http://192.168.0.151:9000 \"GET /video/%E8%99%8E%E7%89%99%E4%B8%8D%E6%9F%93ASMR%E7%A6%8F%E5%88%A9%E5%90%88%E9%9B%86%E3%80%901asmr.top%E3%80%91/%E8%99%8E%E7%89%99%E4%B8%8D%E6%9F%93%20ASMR%E7%A6%8F%E5%88%A9%20%E7%A6%8F%E5%88%A9%20%287%29.mp4 HTTP/1.1\" 200 925906\n",
      "2023-02-26 22:22:10,014 - urllib3.connectionpool - DEBUG - http://192.168.0.151:9000 \"GET /video/%E8%99%8E%E7%89%99%E4%B8%8D%E6%9F%93ASMR%E7%A6%8F%E5%88%A9%E5%90%88%E9%9B%86%E3%80%901asmr.top%E3%80%91/%E8%99%8E%E7%89%99%E4%B8%8D%E6%9F%93%20ASMR%E7%A6%8F%E5%88%A9%20%E7%A6%8F%E5%88%A9%20%289%29.mp4 HTTP/1.1\" 200 518374\n",
      "2023-02-26 22:22:10,042 - urllib3.connectionpool - DEBUG - http://192.168.0.151:9000 \"GET /video/%E8%99%8E%E7%89%99%E9%98%BF%E7%A8%80%E7%A8%80%E5%A4%A7%E9%AD%94%E7%8E%8B%20%E8%95%BE%E4%B8%9D%E6%89%8B%E5%A5%97%2B%E8%A7%86%E9%A2%91%E8%B6%85%E8%BF%91%E8%B8%A9%E8%B8%8F%E8%A7%86%E8%A7%92%EF%BC%81%2020221027%E3%80%901asmr.top%E3%80%91/115%E8%B5%84%E6%BA%90%E8%BD%AC%E5%AD%98%E6%96%B9%E6%B3%95.txt HTTP/1.1\" 200 35\n",
      "2023-02-26 22:22:10,054 - urllib3.connectionpool - DEBUG - http://192.168.0.151:9000 \"GET /video/%E8%99%8E%E7%89%99%E9%98%BF%E7%A8%80%E7%A8%80%E5%A4%A7%E9%AD%94%E7%8E%8B%20%E8%95%BE%E4%B8%9D%E6%89%8B%E5%A5%97%2B%E8%A7%86%E9%A2%91%E8%B6%85%E8%BF%91%E8%B8%A9%E8%B8%8F%E8%A7%86%E8%A7%92%EF%BC%81%2020221027%E3%80%901asmr.top%E3%80%91/%E5%85%8D%E8%B4%B9ASMR%E8%B5%84%E6%96%99%EF%BC%8C%E5%B0%BD%E5%9C%A81asmr.top.txt HTTP/1.1\" 200 77\n",
      "2023-02-26 22:22:10,069 - urllib3.connectionpool - DEBUG - http://192.168.0.151:9000 \"GET /video/%E8%99%8E%E7%89%99%E9%98%BF%E7%A8%80%E7%A8%80%E5%A4%A7%E9%AD%94%E7%8E%8B%20%E8%95%BE%E4%B8%9D%E6%89%8B%E5%A5%97%2B%E8%A7%86%E9%A2%91%E8%B6%85%E8%BF%91%E8%B8%A9%E8%B8%8F%E8%A7%86%E8%A7%92%EF%BC%81%2020221027%E3%80%901asmr.top%E3%80%91/%E5%8F%A3%E8%85%94%E9%9F%B3%20%E5%BC%B9%E8%88%8C%20%E6%9E%9C%E5%86%BB%20%E6%B7%B1%E5%B1%82%E8%88%94%E8%80%B3%20%E8%B6%85%E9%85%A5.mp3 HTTP/1.1\" 200 36251689\n"
     ]
    },
    {
     "name": "stdout",
     "output_type": "stream",
     "text": [
      "aaa255a41ac0b3f8beac1910ed709836\n",
      "56c2fb8ad3b8c99c25e3f126163bdb0a\n",
      "9d4da47da422d3644428075577468989\n",
      "8d08d3c05a6277f287556ed7ce248f27\n",
      "c0807ee632b030f74fcd5c94e76e4fe8\n",
      "9363b930aac059cbabfcccd7053caec7\n"
     ]
    },
    {
     "name": "stderr",
     "output_type": "stream",
     "text": [
      "2023-02-26 22:22:10,769 - urllib3.connectionpool - DEBUG - http://192.168.0.151:9000 \"GET /video/%E8%99%8E%E7%89%99%E9%98%BF%E7%A8%80%E7%A8%80%E5%A4%A7%E9%AD%94%E7%8E%8B%20%E8%95%BE%E4%B8%9D%E6%89%8B%E5%A5%97%2B%E8%A7%86%E9%A2%91%E8%B6%85%E8%BF%91%E8%B8%A9%E8%B8%8F%E8%A7%86%E8%A7%92%EF%BC%81%2020221027%E3%80%901asmr.top%E3%80%91/%E5%A5%B3%E5%8F%8B%E8%B6%85%E6%B8%A9%E6%9F%94%E6%83%85%E8%AF%9D%E7%B3%BB%E5%88%97.mp3 HTTP/1.1\" 200 24685714\n"
     ]
    },
    {
     "name": "stdout",
     "output_type": "stream",
     "text": [
      "fb321c22f635b7fde6217551f400bf9d\n"
     ]
    },
    {
     "name": "stderr",
     "output_type": "stream",
     "text": [
      "2023-02-26 22:22:11,280 - urllib3.connectionpool - DEBUG - http://192.168.0.151:9000 \"GET /video/%E8%99%8E%E7%89%99%E9%98%BF%E7%A8%80%E7%A8%80%E5%A4%A7%E9%AD%94%E7%8E%8B%20%E8%95%BE%E4%B8%9D%E6%89%8B%E5%A5%97%2B%E8%A7%86%E9%A2%91%E8%B6%85%E8%BF%91%E8%B8%A9%E8%B8%8F%E8%A7%86%E8%A7%92%EF%BC%81%2020221027%E3%80%901asmr.top%E3%80%91/%E5%B0%8F%E5%89%A7%E5%9C%BA%E8%BD%BB%E8%AF%AD%EF%BC%9A%E9%9B%A8%E5%A4%A9%E8%B6%85%E6%B8%A9%E6%9F%94%E5%A7%90%E5%A7%90.mp3 HTTP/1.1\" 200 35127379\n"
     ]
    },
    {
     "name": "stdout",
     "output_type": "stream",
     "text": [
      "0f311c115f6c3aee1cbe3380f99973df\n"
     ]
    },
    {
     "name": "stderr",
     "output_type": "stream",
     "text": [
      "2023-02-26 22:22:11,948 - urllib3.connectionpool - DEBUG - http://192.168.0.151:9000 \"GET /video/%E8%99%8E%E7%89%99%E9%98%BF%E7%A8%80%E7%A8%80%E5%A4%A7%E9%AD%94%E7%8E%8B%20%E8%95%BE%E4%B8%9D%E6%89%8B%E5%A5%97%2B%E8%A7%86%E9%A2%91%E8%B6%85%E8%BF%91%E8%B8%A9%E8%B8%8F%E8%A7%86%E8%A7%92%EF%BC%81%2020221027%E3%80%901asmr.top%E3%80%91/%E5%BF%85%E8%AF%BB.txt HTTP/1.1\" 200 75\n",
      "2023-02-26 22:22:11,959 - urllib3.connectionpool - DEBUG - http://192.168.0.151:9000 \"GET /video/%E8%99%8E%E7%89%99%E9%98%BF%E7%A8%80%E7%A8%80%E5%A4%A7%E9%AD%94%E7%8E%8B%20%E8%95%BE%E4%B8%9D%E6%89%8B%E5%A5%97%2B%E8%A7%86%E9%A2%91%E8%B6%85%E8%BF%91%E8%B8%A9%E8%B8%8F%E8%A7%86%E8%A7%92%EF%BC%81%2020221027%E3%80%901asmr.top%E3%80%91/%E7%99%BE%E5%BA%A6%E7%A7%92%E4%BC%A0%E9%93%BE%E6%8E%A5%E7%9A%84%E5%88%9B%E5%BB%BA%E5%92%8C%E4%BD%BF%E7%94%A8%E6%96%B9%E6%B3%95.txt HTTP/1.1\" 200 36\n",
      "2023-02-26 22:22:11,972 - urllib3.connectionpool - DEBUG - http://192.168.0.151:9000 \"GET /video/%E8%99%8E%E7%89%99%E9%98%BF%E7%A8%80%E7%A8%80%E5%A4%A7%E9%AD%94%E7%8E%8B%20%E8%95%BE%E4%B8%9D%E6%89%8B%E5%A5%97%2B%E8%A7%86%E9%A2%91%E8%B6%85%E8%BF%91%E8%B8%A9%E8%B8%8F%E8%A7%86%E8%A7%92%EF%BC%81%2020221027%E3%80%901asmr.top%E3%80%91/%E8%8A%A6%E8%8D%9F%E8%83%B6%E6%8C%89%E6%91%A9%20spa%20%E5%91%BC%E5%90%B8%20%E5%8F%A3%E8%85%94%E9%9F%B3.mp3 HTTP/1.1\" 200 26538318\n"
     ]
    },
    {
     "name": "stdout",
     "output_type": "stream",
     "text": [
      "3da63875c5807f6e6040eab33ae80e75\n",
      "953fb0c6ed7cd2ac23e3206f418ffdb4\n",
      "4dd4a6c2c84a7468ee7aca0c42393a3e\n"
     ]
    },
    {
     "name": "stderr",
     "output_type": "stream",
     "text": [
      "2023-02-26 22:22:12,500 - urllib3.connectionpool - DEBUG - http://192.168.0.151:9000 \"GET /video/%E8%99%8E%E7%89%99%E9%98%BF%E7%A8%80%E7%A8%80%E5%A4%A7%E9%AD%94%E7%8E%8B%20%E8%95%BE%E4%B8%9D%E6%89%8B%E5%A5%97%2B%E8%A7%86%E9%A2%91%E8%B6%85%E8%BF%91%E8%B8%A9%E8%B8%8F%E8%A7%86%E8%A7%92%EF%BC%81%2020221027%E3%80%901asmr.top%E3%80%91/%E8%99%8E%E7%89%99%E9%98%BF%E7%A8%80%E7%A8%80%E5%A4%A7%E9%AD%94%E7%8E%8B%20%E8%95%BE%E4%B8%9D%E6%89%8B%E5%A5%97%20%E8%A7%86%E9%A2%91%E8%B6%85%E8%BF%91%E8%B8%A9%E8%B8%8F%E8%A7%86%E8%A7%92%EF%BC%81%20%281%29.mp4 HTTP/1.1\" 200 83210304\n"
     ]
    },
    {
     "name": "stdout",
     "output_type": "stream",
     "text": [
      "e6afe12568a1f1b8d60a2ed099a04ea6\n"
     ]
    },
    {
     "name": "stderr",
     "output_type": "stream",
     "text": [
      "2023-02-26 22:22:14,065 - urllib3.connectionpool - DEBUG - http://192.168.0.151:9000 \"GET /video/%E8%99%8E%E7%89%99%E9%98%BF%E7%A8%80%E7%A8%80%E5%A4%A7%E9%AD%94%E7%8E%8B%20%E8%95%BE%E4%B8%9D%E6%89%8B%E5%A5%97%2B%E8%A7%86%E9%A2%91%E8%B6%85%E8%BF%91%E8%B8%A9%E8%B8%8F%E8%A7%86%E8%A7%92%EF%BC%81%2020221027%E3%80%901asmr.top%E3%80%91/%E8%99%8E%E7%89%99%E9%98%BF%E7%A8%80%E7%A8%80%E5%A4%A7%E9%AD%94%E7%8E%8B%20%E8%95%BE%E4%B8%9D%E6%89%8B%E5%A5%97%20%E8%A7%86%E9%A2%91%E8%B6%85%E8%BF%91%E8%B8%A9%E8%B8%8F%E8%A7%86%E8%A7%92%EF%BC%81.mp4 HTTP/1.1\" 200 16005004\n"
     ]
    },
    {
     "name": "stdout",
     "output_type": "stream",
     "text": [
      "217ccf2d0af56b579fb427518542da5b\n",
      "d1f6688c6c744c02858ad4e7b583e23c\n"
     ]
    }
   ],
   "source": [
    "files =  minioHandle.list_objects('video','/',True)\n",
    "\n",
    "for file in files:\n",
    "    # pos = file.object_name.rindex('/')\n",
    "    # print(file.object_name[pos+1:])\n",
    "    print(file.object_name)\n",
    "    # if not file.is_dir :\n",
    "    #  obj =minioHandle.get_object('video',file.object_name)\n",
    "    #  hash =  hashlib.md5()\n",
    "    #  hash.update(obj.data)\n",
    "    #  print(hash.hexdigest())\n",
    "    "
   ]
  },
  {
   "cell_type": "code",
   "execution_count": null,
   "metadata": {},
   "outputs": [],
   "source": [
    "\n",
    "print(time.strftime(\"%Y-%m-%d %H:%M:%S\",time.localtime()))"
   ]
  },
  {
   "cell_type": "code",
   "execution_count": null,
   "metadata": {},
   "outputs": [],
   "source": [
    "\n",
    "msg = 'aaa.mp4'\n",
    "\n",
    "# pos = msg.rindex('.')\n",
    "\n",
    "# print(msg[pos:])\n",
    "print(msg[0:len(msg)-1])"
   ]
  }
 ],
 "metadata": {
  "kernelspec": {
   "display_name": "IENV",
   "language": "python",
   "name": "python3"
  },
  "language_info": {
   "codemirror_mode": {
    "name": "ipython",
    "version": 3
   },
   "file_extension": ".py",
   "mimetype": "text/x-python",
   "name": "python",
   "nbconvert_exporter": "python",
   "pygments_lexer": "ipython3",
   "version": "3.8.12"
  },
  "orig_nbformat": 4,
  "vscode": {
   "interpreter": {
    "hash": "8ded59a3e34ddbd782c7fd5fab096b90da357bccf4b1062a09e27b3f08f38ea5"
   }
  }
 },
 "nbformat": 4,
 "nbformat_minor": 2
}
