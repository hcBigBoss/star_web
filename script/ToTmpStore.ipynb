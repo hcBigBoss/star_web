{
 "cells": [
  {
   "cell_type": "code",
   "execution_count": null,
   "metadata": {},
   "outputs": [],
   "source": []
  }
 ],
 "metadata": {
  "kernelspec": {
   "display_name": "IENV",
   "language": "python",
   "name": "python3"
  },
  "language_info": {
   "name": "python",
   "version": "3.8.12"
  },
  "orig_nbformat": 4,
  "vscode": {
   "interpreter": {
    "hash": "8ded59a3e34ddbd782c7fd5fab096b90da357bccf4b1062a09e27b3f08f38ea5"
   }
  }
 },
 "nbformat": 4,
 "nbformat_minor": 2
}
