{
 "cells": [
  {
   "cell_type": "code",
   "execution_count": null,
   "metadata": {},
   "outputs": [],
   "source": [
    "import minio"
   ]
  },
  {
   "cell_type": "code",
   "execution_count": null,
   "metadata": {},
   "outputs": [],
   "source": [
    "\n",
    "handle = minio.Minio('192.168.0.151:9000','adminminio','adminminio',secure=False)"
   ]
  },
  {
   "cell_type": "code",
   "execution_count": null,
   "metadata": {},
   "outputs": [],
   "source": [
    "\n",
    "\n",
    "buckets =  handle.list_buckets()\n",
    "\n",
    "print(buckets)"
   ]
  },
  {
   "cell_type": "code",
   "execution_count": null,
   "metadata": {},
   "outputs": [],
   "source": [
    "def fileFilter(fileName,suffixStr):\n",
    "    suffixStr=suffixStr.replace(' ','')\n",
    "    sufs = suffixStr.split('|')\n",
    "\n",
    "    fileName = fileName.lower()\n",
    "    for suf in sufs:\n",
    "        if fileName.endswith(suf.lower()):\n",
    "            return True\n",
    "    return False"
   ]
  },
  {
   "cell_type": "code",
   "execution_count": null,
   "metadata": {},
   "outputs": [],
   "source": [
    "\n",
    "fileFilter('a.JP','jpg|png|jpeg')"
   ]
  },
  {
   "cell_type": "code",
   "execution_count": null,
   "metadata": {},
   "outputs": [],
   "source": [
    "\n",
    "\n",
    "files = handle.list_objects('saigao','/私定1万：性感套套牛奶主题丁字裤/')\n",
    "\n",
    "\n",
    "for file in files:\n",
    "    print(file.object_name)"
   ]
  },
  {
   "cell_type": "code",
   "execution_count": 43,
   "metadata": {},
   "outputs": [],
   "source": [
    "import redis"
   ]
  },
  {
   "cell_type": "code",
   "execution_count": 44,
   "metadata": {},
   "outputs": [],
   "source": [
    "cacheManager = redis.Redis('192.168.0.151')"
   ]
  },
  {
   "cell_type": "code",
   "execution_count": 46,
   "metadata": {},
   "outputs": [
    {
     "name": "stdout",
     "output_type": "stream",
     "text": [
      "[b'test']\n"
     ]
    }
   ],
   "source": [
    "\n",
    "keys = cacheManager.keys('*')\n",
    "\n",
    "print(keys)"
   ]
  }
 ],
 "metadata": {
  "kernelspec": {
   "display_name": "IENV",
   "language": "python",
   "name": "python3"
  },
  "language_info": {
   "codemirror_mode": {
    "name": "ipython",
    "version": 3
   },
   "file_extension": ".py",
   "mimetype": "text/x-python",
   "name": "python",
   "nbconvert_exporter": "python",
   "pygments_lexer": "ipython3",
   "version": "3.8.12"
  },
  "orig_nbformat": 4,
  "vscode": {
   "interpreter": {
    "hash": "8ded59a3e34ddbd782c7fd5fab096b90da357bccf4b1062a09e27b3f08f38ea5"
   }
  }
 },
 "nbformat": 4,
 "nbformat_minor": 2
}
